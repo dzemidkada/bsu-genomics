{
 "cells": [
  {
   "cell_type": "code",
   "execution_count": null,
   "metadata": {},
   "outputs": [],
   "source": [
    "%load_ext autoreload\n",
    "%autoreload 2"
   ]
  },
  {
   "cell_type": "code",
   "execution_count": null,
   "metadata": {},
   "outputs": [],
   "source": [
    "from str_finder.config import Config\n",
    "from str_finder.utils import *\n",
    "from str_finder.match_finder import *"
   ]
  },
  {
   "cell_type": "code",
   "execution_count": null,
   "metadata": {},
   "outputs": [],
   "source": [
    "str_templates_cfg = Config('str_finder/cfg/str_templates.yaml')"
   ]
  },
  {
   "cell_type": "markdown",
   "metadata": {},
   "source": [
    "# Dummy template matching"
   ]
  },
  {
   "cell_type": "markdown",
   "metadata": {},
   "source": [
    "**D1S1677**"
   ]
  },
  {
   "cell_type": "code",
   "execution_count": null,
   "metadata": {},
   "outputs": [],
   "source": [
    "str_ref_D1S1677 = 'CCAGTATAGTCAGGAGCTTTACTGGAAGCAACAACCCACTGTAGTGCTGGTGCAGCGTAATTGTATAGCTACAGTTTTTCTGTTGGTATAGAGCAGTGTTTCCTTCCTTCCTTCCTTCCTTCCTTCCTTCCTTCCTTCCTTCCTTCCTTCCTTCCTTCCTTCATTCCGTCCTTCCTGTCACACTAAGAAATACAATTTCTATTACAATGCACACATTTATACACATATAACTGAAGATAGAGTGCCATAAAACAAAATT'"
   ]
  },
  {
   "cell_type": "code",
   "execution_count": null,
   "metadata": {},
   "outputs": [],
   "source": [
    "template_D1S1677 = str_templates_cfg['templates'][0]\n",
    "template_D1S1677"
   ]
  },
  {
   "cell_type": "code",
   "execution_count": null,
   "metadata": {},
   "outputs": [],
   "source": [
    "for pattern_cfg in template_D1S1677['template_structure']:\n",
    "    print(f'PATTERN: {pattern_cfg[\"pattern\"]}')\n",
    "    visualize_matches(str_ref_D1S1677, pattern_cfg['pattern'], pattern_cfg['max_errors'])"
   ]
  },
  {
   "cell_type": "code",
   "execution_count": null,
   "metadata": {},
   "outputs": [],
   "source": [
    "t_matcher = TemplateMatcher(template_D1S1677)\n",
    "t_matcher.match(str_ref_D1S1677)"
   ]
  },
  {
   "cell_type": "markdown",
   "metadata": {},
   "source": [
    "**DXS10101**"
   ]
  },
  {
   "cell_type": "code",
   "execution_count": null,
   "metadata": {},
   "outputs": [],
   "source": [
    "str_ref_DXS10101 = 'TGATAATTGTTGAAGCTGGGTGATGGGTACATGTGGGAGTTCATGATACTATATTTTTATGTGTTTCAATCTTTCCATAATAAAATTTTTTTTTAGAAAAAAGAAAGAAAGGAAAGAAGGAAAGAAAGAAAAGAAAGAAAGAAAGAAAAAGAAAAGAAAGAAAGAAAGAAAGAAAAAGAAAAAGAAAGAAAGAAAGAAAGAAAGAAAGAAAGAAAGAAAGAAAGAAAGAAAGAAAAAATACGGTATCAGGATAAGCCTAAATAAGAAGGTGACATTTGCTGTGGATCGTTCAGCATGTACAGGGCCCCTGTCACCATCTGGCTTTAAAAATACT'"
   ]
  },
  {
   "cell_type": "code",
   "execution_count": null,
   "metadata": {},
   "outputs": [],
   "source": [
    "template_DXS10101 = str_templates_cfg['templates'][14]\n",
    "template_DXS10101"
   ]
  },
  {
   "cell_type": "code",
   "execution_count": null,
   "metadata": {},
   "outputs": [],
   "source": [
    "for pattern_cfg in template_DXS10101['template_structure']:\n",
    "    print(f'PATTERN: {pattern_cfg[\"pattern\"]}')\n",
    "    visualize_matches(str_ref_DXS10101, pattern_cfg['pattern'], pattern_cfg['max_errors'])"
   ]
  },
  {
   "cell_type": "code",
   "execution_count": null,
   "metadata": {},
   "outputs": [],
   "source": [
    "t_matcher = TemplateMatcher(template_DXS10101)\n",
    "t_matcher.match(str_ref_DXS10101)"
   ]
  },
  {
   "cell_type": "markdown",
   "metadata": {},
   "source": [
    "**DXS10148**"
   ]
  },
  {
   "cell_type": "code",
   "execution_count": null,
   "metadata": {},
   "outputs": [],
   "source": [
    "str_ref_DXS10148 = \"GCCTGGGAGGCAGAGATTGCAGTGAGCTGAGATCATGCGACTGCACTCCAGCCTGCATGACAGAGGGAGATTCTGTCTCAACAAAAAAAAAAAAAAGGGGGAAGGAAGGAAGGAAAAGAAAGAAAGAAAGAAAGAAAGAAAGAAAGAAAGAAAGAAAGAAAGAAAAGAAAGAAAGAAAGAAGGAAAGAAGGAAGGAAAGAAGGAAAGAAGGAAAGAAGGAAAGGGAAAGGAAAGGAAAAAGAAACACCACTGCCAAAACCAGCAAAAGATTAAAGGAAGCAAACATCCTCATTCT\""
   ]
  },
  {
   "cell_type": "code",
   "execution_count": null,
   "metadata": {},
   "outputs": [],
   "source": [
    "template_DXS10148 = str_templates_cfg['templates'][8]\n",
    "template_DXS10148"
   ]
  },
  {
   "cell_type": "code",
   "execution_count": null,
   "metadata": {},
   "outputs": [],
   "source": [
    "for pattern_cfg in template_DXS10148['template_structure']:\n",
    "    print(f'PATTERN: {pattern_cfg[\"pattern\"]}')\n",
    "    visualize_matches(str_ref_DXS10148, pattern_cfg['pattern'], pattern_cfg['max_errors'])"
   ]
  },
  {
   "cell_type": "code",
   "execution_count": null,
   "metadata": {},
   "outputs": [],
   "source": [
    "t_matcher = TemplateMatcher(template_DXS10148)\n",
    "t_matcher.match(str_ref_DXS10148)"
   ]
  }
 ],
 "metadata": {
  "kernelspec": {
   "display_name": "Python 3",
   "language": "python",
   "name": "python3"
  },
  "language_info": {
   "codemirror_mode": {
    "name": "ipython",
    "version": 3
   },
   "file_extension": ".py",
   "mimetype": "text/x-python",
   "name": "python",
   "nbconvert_exporter": "python",
   "pygments_lexer": "ipython3",
   "version": "3.6.6"
  }
 },
 "nbformat": 4,
 "nbformat_minor": 2
}
