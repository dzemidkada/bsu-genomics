{
 "cells": [
  {
   "cell_type": "code",
   "execution_count": 1,
   "metadata": {
    "scrolled": true
   },
   "outputs": [],
   "source": [
    "import os\n",
    "os.chdir(os.environ['PROJECT_ROOT'])\n",
    "\n",
    "%load_ext autoreload\n",
    "%autoreload 2"
   ]
  },
  {
   "cell_type": "code",
   "execution_count": 2,
   "metadata": {},
   "outputs": [],
   "source": [
    "from str_finder.utils import inspect_storage_dir\n",
    "\n",
    "samples_loci_dict, loci_samples_dict = inspect_storage_dir('data/str_data/loci_reads')"
   ]
  },
  {
   "cell_type": "markdown",
   "metadata": {},
   "source": [
    "# STR markers"
   ]
  },
  {
   "cell_type": "code",
   "execution_count": 4,
   "metadata": {},
   "outputs": [
    {
     "data": {
      "text/html": [
       "<div>\n",
       "<style scoped>\n",
       "    .dataframe tbody tr th:only-of-type {\n",
       "        vertical-align: middle;\n",
       "    }\n",
       "\n",
       "    .dataframe tbody tr th {\n",
       "        vertical-align: top;\n",
       "    }\n",
       "\n",
       "    .dataframe thead th {\n",
       "        text-align: right;\n",
       "    }\n",
       "</style>\n",
       "<table border=\"1\" class=\"dataframe\">\n",
       "  <thead>\n",
       "    <tr style=\"text-align: right;\">\n",
       "      <th></th>\n",
       "      <th>Code</th>\n",
       "      <th>Chr</th>\n",
       "      <th>LocusStart</th>\n",
       "      <th>LocusEnd</th>\n",
       "      <th>LocusName</th>\n",
       "      <th>LocusLength</th>\n",
       "      <th>RepeatStructure</th>\n",
       "      <th>IsSTR</th>\n",
       "      <th>Allele1Pattern</th>\n",
       "      <th>Allele2Pattern</th>\n",
       "      <th>Unnamed: 10</th>\n",
       "    </tr>\n",
       "  </thead>\n",
       "  <tbody>\n",
       "    <tr>\n",
       "      <th>1</th>\n",
       "      <td>chr1:163589926-163590185 D1S1677</td>\n",
       "      <td>chr1</td>\n",
       "      <td>163589926</td>\n",
       "      <td>163590185</td>\n",
       "      <td>D1S1677</td>\n",
       "      <td>259</td>\n",
       "      <td>[TTCC]n</td>\n",
       "      <td>True</td>\n",
       "      <td>[TTCC]n</td>\n",
       "      <td>[AAGG]n</td>\n",
       "      <td>NaN</td>\n",
       "    </tr>\n",
       "    <tr>\n",
       "      <th>7</th>\n",
       "      <td>chr12:107928490-107928728 D12ATA63</td>\n",
       "      <td>chr12</td>\n",
       "      <td>107928490</td>\n",
       "      <td>107928728</td>\n",
       "      <td>D12ATA63</td>\n",
       "      <td>238</td>\n",
       "      <td>[TTG]n [TTA]n</td>\n",
       "      <td>True</td>\n",
       "      <td>[TTG]n [TTA]n</td>\n",
       "      <td>[TAA]n CA [ACA]n</td>\n",
       "      <td>[('[TGT]n TA [TTA]n', 48, 843, 21)]</td>\n",
       "    </tr>\n",
       "    <tr>\n",
       "      <th>11</th>\n",
       "      <td>chr14:94841954-94842205 D14S1434</td>\n",
       "      <td>chr14</td>\n",
       "      <td>94841954</td>\n",
       "      <td>94842205</td>\n",
       "      <td>D14S1434</td>\n",
       "      <td>251</td>\n",
       "      <td>[CTGT]n [CTAT]n</td>\n",
       "      <td>True</td>\n",
       "      <td>[CTGT]n [CTAT]n</td>\n",
       "      <td>[GGAT]n AG [ATAG]n [ACAG]n</td>\n",
       "      <td>[('[CTGT]n [CTAT]n CC [ATCC]n', 48, 793, 17)]</td>\n",
       "    </tr>\n",
       "    <tr>\n",
       "      <th>35</th>\n",
       "      <td>chr2:168788793-168789036 D2S1776</td>\n",
       "      <td>chr2</td>\n",
       "      <td>168788793</td>\n",
       "      <td>168789036</td>\n",
       "      <td>D2S1776</td>\n",
       "      <td>243</td>\n",
       "      <td>[AGAT]n</td>\n",
       "      <td>True</td>\n",
       "      <td>[AGAT]n</td>\n",
       "      <td>[ATCT]n</td>\n",
       "      <td>[('[AGAT]n [GATA]n', 48, 669, 16)]</td>\n",
       "    </tr>\n",
       "    <tr>\n",
       "      <th>46</th>\n",
       "      <td>chr3:85803384-85803631 D3S4529</td>\n",
       "      <td>chr3</td>\n",
       "      <td>85803384</td>\n",
       "      <td>85803631</td>\n",
       "      <td>D3S4529</td>\n",
       "      <td>247</td>\n",
       "      <td>[GATA]n AATA [GATA]n</td>\n",
       "      <td>True</td>\n",
       "      <td>[GATA]n</td>\n",
       "      <td>[CTAT]n TTA [TCTA]n [TCTG]n</td>\n",
       "      <td>NaN</td>\n",
       "    </tr>\n",
       "  </tbody>\n",
       "</table>\n",
       "</div>"
      ],
      "text/plain": [
       "                                  Code    Chr  LocusStart   LocusEnd  \\\n",
       "1     chr1:163589926-163590185 D1S1677   chr1   163589926  163590185   \n",
       "7   chr12:107928490-107928728 D12ATA63  chr12   107928490  107928728   \n",
       "11    chr14:94841954-94842205 D14S1434  chr14    94841954   94842205   \n",
       "35    chr2:168788793-168789036 D2S1776   chr2   168788793  168789036   \n",
       "46      chr3:85803384-85803631 D3S4529   chr3    85803384   85803631   \n",
       "\n",
       "   LocusName  LocusLength       RepeatStructure  IsSTR   Allele1Pattern  \\\n",
       "1    D1S1677          259               [TTCC]n   True          [TTCC]n   \n",
       "7   D12ATA63          238         [TTG]n [TTA]n   True    [TTG]n [TTA]n   \n",
       "11  D14S1434          251       [CTGT]n [CTAT]n   True  [CTGT]n [CTAT]n   \n",
       "35   D2S1776          243               [AGAT]n   True          [AGAT]n   \n",
       "46   D3S4529          247  [GATA]n AATA [GATA]n   True          [GATA]n   \n",
       "\n",
       "                 Allele2Pattern                                    Unnamed: 10  \n",
       "1                       [AAGG]n                                            NaN  \n",
       "7              [TAA]n CA [ACA]n            [('[TGT]n TA [TTA]n', 48, 843, 21)]  \n",
       "11   [GGAT]n AG [ATAG]n [ACAG]n  [('[CTGT]n [CTAT]n CC [ATCC]n', 48, 793, 17)]  \n",
       "35                      [ATCT]n             [('[AGAT]n [GATA]n', 48, 669, 16)]  \n",
       "46  [CTAT]n TTA [TCTA]n [TCTG]n                                            NaN  "
      ]
     },
     "execution_count": 4,
     "metadata": {},
     "output_type": "execute_result"
    }
   ],
   "source": [
    "import pandas as pd\n",
    "\n",
    "str_markers_ref = pd.read_excel('data/str_data/STR_patterns.xlsx')\n",
    "valid_markers = str_markers_ref[~str_markers_ref.Allele1Pattern.isna()]\n",
    "valid_markers.head()"
   ]
  },
  {
   "cell_type": "markdown",
   "metadata": {},
   "source": [
    "# Annotation"
   ]
  },
  {
   "cell_type": "code",
   "execution_count": 5,
   "metadata": {
    "scrolled": true
   },
   "outputs": [
    {
     "name": "stderr",
     "output_type": "stream",
     "text": [
      "/Users/dmitriydemidko/anaconda3/envs/genomics/lib/python3.6/site-packages/ipykernel_launcher.py:6: TqdmDeprecationWarning: This function will be removed in tqdm==5.0.0\n",
      "Please use `tqdm.notebook.tqdm` instead of `tqdm.tqdm_notebook`\n",
      "  \n"
     ]
    },
    {
     "data": {
      "application/vnd.jupyter.widget-view+json": {
       "model_id": "47cc5cfc18db41508503085f3f0f4a67",
       "version_major": 2,
       "version_minor": 0
      },
      "text/plain": [
       "HBox(children=(FloatProgress(value=0.0, max=48.0), HTML(value='')))"
      ]
     },
     "metadata": {},
     "output_type": "display_data"
    },
    {
     "name": "stdout",
     "output_type": "stream",
     "text": [
      "\n"
     ]
    }
   ],
   "source": [
    "import tqdm \n",
    "from str_finder.utils import *\n",
    "from str_finder.repeat_pattern import GreedyRepeatPattern\n",
    "\n",
    "results = []\n",
    "for s in tqdm.tqdm_notebook(samples_loci_dict):\n",
    "    df = pd.DataFrame({'sample_id': [s]})\n",
    "    for l, path in samples_loci_dict[s].items():\n",
    "        if l not in valid_markers.LocusName.tolist():\n",
    "            continue\n",
    "        \n",
    "        r = get_most_common_reads_from_path(path)\n",
    "        if r is None:\n",
    "            for allele_id in range(1, 3):\n",
    "                df[f'{l}_{allele_id}'] = 0\n",
    "                df[f'{l}_{allele_id}_annotation'] = 'No available reads (with length > 100)'\n",
    "            continue\n",
    "        # Repeat pattern\n",
    "        locus_rp = valid_markers.query(f'LocusName == \"{l}\"')[f'Allele1Pattern'].values[0]\n",
    "        if isinstance(locus_rp, str):\n",
    "            rp = GreedyRepeatPattern(locus_rp)\n",
    "            \n",
    "            alleles, annotations = check_repeat_pattern(rp, r)\n",
    "            result = retrieve_true_alleles(alleles)\n",
    "            \n",
    "            for allele_id, (allele, support) in enumerate(result):\n",
    "                df[f'{l}_{allele_id+1}'] = allele\n",
    "                df[f'{l}_{allele_id+1}_annotation'] = annotations[allele]\n",
    "                df[f'{l}_{allele_id+1}_support (# reads)'] = support\n",
    "        else:\n",
    "            for allele_id in range(1, 3):           \n",
    "                df[f'{l}_{allele_id}'] = 0\n",
    "                df[f'{l}_{allele_id}_annotation'] = 'No available patterns'\n",
    "    results.append(df)"
   ]
  },
  {
   "cell_type": "code",
   "execution_count": 8,
   "metadata": {},
   "outputs": [],
   "source": [
    "annotations = pd.concat(results, axis=0).reset_index(drop=True)\n",
    "assert (\n",
    "    annotations[[c \n",
    "                 for c in annotations.columns\n",
    "                 if 'id' not in c and 'annotation' not in c and 'support' not in c\n",
    "                ]].sum(axis=0).sort_index() > 0\n",
    ").all()\n",
    "annotations = annotations[['sample_id'] + sorted(annotations.columns[1:])]"
   ]
  },
  {
   "cell_type": "code",
   "execution_count": 14,
   "metadata": {},
   "outputs": [],
   "source": [
    "annotations.to_excel('data/str_data/annotation_results_v4.xlsx', index=False)"
   ]
  }
 ],
 "metadata": {
  "kernelspec": {
   "display_name": "Python 3",
   "language": "python",
   "name": "python3"
  },
  "language_info": {
   "codemirror_mode": {
    "name": "ipython",
    "version": 3
   },
   "file_extension": ".py",
   "mimetype": "text/x-python",
   "name": "python",
   "nbconvert_exporter": "python",
   "pygments_lexer": "ipython3",
   "version": "3.6.6"
  }
 },
 "nbformat": 4,
 "nbformat_minor": 4
}
