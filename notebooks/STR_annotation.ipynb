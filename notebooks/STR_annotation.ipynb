{
 "cells": [
  {
   "cell_type": "code",
   "execution_count": 1,
   "metadata": {
    "ExecuteTime": {
     "end_time": "2020-05-29T17:44:57.904618Z",
     "start_time": "2020-05-29T17:44:57.838564Z"
    },
    "scrolled": true
   },
   "outputs": [],
   "source": [
    "import os\n",
    "os.chdir(os.environ['PROJECT_ROOT'])\n",
    "\n",
    "%load_ext autoreload\n",
    "%autoreload 2"
   ]
  },
  {
   "cell_type": "markdown",
   "metadata": {},
   "source": [
    "# Reference (Forensic v5)"
   ]
  },
  {
   "cell_type": "code",
   "execution_count": 2,
   "metadata": {
    "ExecuteTime": {
     "end_time": "2020-05-29T17:45:04.480332Z",
     "start_time": "2020-05-29T17:44:57.906630Z"
    }
   },
   "outputs": [
    {
     "data": {
      "text/plain": [
       "['S1A. Common Use A-STRs',\n",
       " 'S1B. Common Use XY-STRs',\n",
       " 'S1C. Additional A-STRs',\n",
       " 'S1D. Additional XY-STRs',\n",
       " 'Sequence strings for all STRs',\n",
       " 'Change log']"
      ]
     },
     "execution_count": 2,
     "metadata": {},
     "output_type": "execute_result"
    }
   ],
   "source": [
    "import pandas as pd\n",
    "pd.set_option('max_colwidth', 400)\n",
    "\n",
    "ref = pd.ExcelFile('data/Forensic_STR_Sequence_Structure_Guide_v5.xlsx')\n",
    "ref.sheet_names"
   ]
  },
  {
   "cell_type": "markdown",
   "metadata": {},
   "source": [
    "**A-STRs**"
   ]
  },
  {
   "cell_type": "code",
   "execution_count": 3,
   "metadata": {
    "ExecuteTime": {
     "end_time": "2020-05-29T17:45:04.558381Z",
     "start_time": "2020-05-29T17:45:04.481312Z"
    }
   },
   "outputs": [],
   "source": [
    "from collections import defaultdict\n",
    "\n",
    "def retrieve_markers_info(df, meta=''):\n",
    "    markers = defaultdict(list)\n",
    "    df[df.columns[0]] = df[df.columns[0]].fillna(0)\n",
    "    for index, row in df.iterrows():\n",
    "        if row[df.columns[0]] > 0:\n",
    "            markers['marker'].append(row[4])\n",
    "            markers['pattern'].append(row[3])\n",
    "            markers['position'].append(df.iloc[index+1].values[1])\n",
    "            markers['metadata'].append(meta)\n",
    "    return markers"
   ]
  },
  {
   "cell_type": "code",
   "execution_count": 4,
   "metadata": {
    "ExecuteTime": {
     "end_time": "2020-05-29T17:45:04.737378Z",
     "start_time": "2020-05-29T17:45:04.559300Z"
    }
   },
   "outputs": [],
   "source": [
    "a_strs_df = ref.parse('S1A. Common Use A-STRs', skiprows=3)\n",
    "a_str_markers = retrieve_markers_info(a_strs_df, 'autosomal')"
   ]
  },
  {
   "cell_type": "markdown",
   "metadata": {},
   "source": [
    "**XY-STRs**"
   ]
  },
  {
   "cell_type": "code",
   "execution_count": 5,
   "metadata": {
    "ExecuteTime": {
     "end_time": "2020-05-29T17:45:05.060299Z",
     "start_time": "2020-05-29T17:45:04.738301Z"
    }
   },
   "outputs": [],
   "source": [
    "xy_strs_df = ref.parse('S1B. Common Use XY-STRs', skiprows=2)\n",
    "xy_str_markers = retrieve_markers_info(xy_strs_df, 'xy')"
   ]
  },
  {
   "cell_type": "markdown",
   "metadata": {},
   "source": [
    "**A-STRs (additional)**"
   ]
  },
  {
   "cell_type": "code",
   "execution_count": 6,
   "metadata": {
    "ExecuteTime": {
     "end_time": "2020-05-29T17:45:05.231335Z",
     "start_time": "2020-05-29T17:45:05.061300Z"
    }
   },
   "outputs": [],
   "source": [
    "a_strs_df_add = ref.parse('S1C. Additional A-STRs', skiprows=2)\n",
    "a_str_markers_add = retrieve_markers_info(a_strs_df_add, 'autosomal')"
   ]
  },
  {
   "cell_type": "markdown",
   "metadata": {
    "ExecuteTime": {
     "end_time": "2020-05-28T20:08:09.420957Z",
     "start_time": "2020-05-28T20:08:09.361956Z"
    }
   },
   "source": [
    "**XY-STRs (additional)**"
   ]
  },
  {
   "cell_type": "code",
   "execution_count": 7,
   "metadata": {
    "ExecuteTime": {
     "end_time": "2020-05-29T17:45:05.476379Z",
     "start_time": "2020-05-29T17:45:05.233300Z"
    }
   },
   "outputs": [],
   "source": [
    "xy_strs_df_add = ref.parse('S1D. Additional XY-STRs', skiprows=2)\n",
    "xy_str_markers_add = retrieve_markers_info(xy_strs_df_add, 'xy')"
   ]
  },
  {
   "cell_type": "code",
   "execution_count": 8,
   "metadata": {
    "ExecuteTime": {
     "end_time": "2020-05-29T17:45:05.553328Z",
     "start_time": "2020-05-29T17:45:05.478306Z"
    }
   },
   "outputs": [],
   "source": [
    "markers_df = pd.concat(\n",
    "    map(pd.DataFrame,\n",
    "        [a_str_markers, xy_str_markers, a_str_markers_add, xy_str_markers_add])\n",
    ").reset_index(drop=True)\n",
    "markers_df = markers_df[['position', 'marker', 'pattern', 'metadata']]\n",
    "markers_df.marker = markers_df.marker.apply(lambda x: '_'.join(x.split()))"
   ]
  },
  {
   "cell_type": "code",
   "execution_count": 9,
   "metadata": {
    "ExecuteTime": {
     "end_time": "2020-05-29T17:45:05.654333Z",
     "start_time": "2020-05-29T17:45:05.554300Z"
    }
   },
   "outputs": [],
   "source": [
    "markers_df.to_csv('data/str_data/ref_str_data.csv', index=False)\n",
    "\n",
    "with open('data/str_data/ref_str_data_small.csv', 'w') as f:\n",
    "    for index, row in markers_df.iterrows():\n",
    "        if 'GRCH37' not in row.marker and '+' not in row.position and len(row.marker) < 30:\n",
    "            f.write(f'{row.position} {row.marker}\\n')"
   ]
  },
  {
   "cell_type": "markdown",
   "metadata": {},
   "source": [
    "# STR markers"
   ]
  },
  {
   "cell_type": "code",
   "execution_count": 10,
   "metadata": {
    "ExecuteTime": {
     "end_time": "2020-05-29T17:45:05.751301Z",
     "start_time": "2020-05-29T17:45:05.656307Z"
    }
   },
   "outputs": [
    {
     "data": {
      "text/html": [
       "<div>\n",
       "<style scoped>\n",
       "    .dataframe tbody tr th:only-of-type {\n",
       "        vertical-align: middle;\n",
       "    }\n",
       "\n",
       "    .dataframe tbody tr th {\n",
       "        vertical-align: top;\n",
       "    }\n",
       "\n",
       "    .dataframe thead th {\n",
       "        text-align: right;\n",
       "    }\n",
       "</style>\n",
       "<table border=\"1\" class=\"dataframe\">\n",
       "  <thead>\n",
       "    <tr style=\"text-align: right;\">\n",
       "      <th></th>\n",
       "      <th>position</th>\n",
       "      <th>marker</th>\n",
       "      <th>pattern</th>\n",
       "      <th>metadata</th>\n",
       "    </tr>\n",
       "  </thead>\n",
       "  <tbody>\n",
       "    <tr>\n",
       "      <th>0</th>\n",
       "      <td>chr1:163589926-163590185</td>\n",
       "      <td>D1S1677</td>\n",
       "      <td>[TTCC]n *</td>\n",
       "      <td>autosomal</td>\n",
       "    </tr>\n",
       "    <tr>\n",
       "      <th>1</th>\n",
       "      <td>chr1:230769516-230769783</td>\n",
       "      <td>D1S1656</td>\n",
       "      <td>CCTA [TCTA]n TCA [TCTA]n</td>\n",
       "      <td>autosomal</td>\n",
       "    </tr>\n",
       "    <tr>\n",
       "      <th>2</th>\n",
       "      <td>chr2:1489553-1489784</td>\n",
       "      <td>TPOX</td>\n",
       "      <td>[AATG]n</td>\n",
       "      <td>autosomal</td>\n",
       "    </tr>\n",
       "    <tr>\n",
       "      <th>3</th>\n",
       "      <td>chr2:68011847-68012094</td>\n",
       "      <td>D2S441</td>\n",
       "      <td>[TCTA]n TCA [TCTA]n</td>\n",
       "      <td>autosomal</td>\n",
       "    </tr>\n",
       "    <tr>\n",
       "      <th>4</th>\n",
       "      <td>chr2:168788793-168789036</td>\n",
       "      <td>D2S1776</td>\n",
       "      <td>[AGAT]n</td>\n",
       "      <td>autosomal</td>\n",
       "    </tr>\n",
       "    <tr>\n",
       "      <th>...</th>\n",
       "      <td>...</td>\n",
       "      <td>...</td>\n",
       "      <td>...</td>\n",
       "      <td>...</td>\n",
       "    </tr>\n",
       "    <tr>\n",
       "      <th>131</th>\n",
       "      <td>chrX:134520365-134520719</td>\n",
       "      <td>DXS10101</td>\n",
       "      <td>[AAAG]n gaaagaag [GAAA]n a [GAAA]n aaga [AAAG]n aaaaagaa [AAAG]n AA</td>\n",
       "      <td>xy</td>\n",
       "    </tr>\n",
       "    <tr>\n",
       "      <th>132</th>\n",
       "      <td>chrX:150403692-150404185</td>\n",
       "      <td>DXS10146_(GRCH38)</td>\n",
       "      <td>[AAAG]n a [AAAG]n N10 [GGAA]n N10 [GGGA]n ggaaggga [GGAA]n a [GGAA]n</td>\n",
       "      <td>xy</td>\n",
       "    </tr>\n",
       "    <tr>\n",
       "      <th>133</th>\n",
       "      <td>chrX:150403692-150404185</td>\n",
       "      <td>DXS10146_(GRCH37)</td>\n",
       "      <td>[TTCC]n t [TTCC]n t TTCC N12 TTCC TCCC N10 [TTCC]n tttctt [CTTT]n CTTC [CTTT]n t [CTTT]n</td>\n",
       "      <td>xy</td>\n",
       "    </tr>\n",
       "    <tr>\n",
       "      <th>134</th>\n",
       "      <td>chrX:150481726-150482131</td>\n",
       "      <td>DXS10134_(GRCH37)</td>\n",
       "      <td>[GAAA]n gaga [GAAA]n aa GAAA gaga [GAAA]n N22 GAAA gtaa [GAAA]n aaa [GAAA]n aaa [GAAA]n</td>\n",
       "      <td>xy</td>\n",
       "    </tr>\n",
       "    <tr>\n",
       "      <th>135</th>\n",
       "      <td>chrX:150481726-150482131</td>\n",
       "      <td>DXS10134_(GRCH38)</td>\n",
       "      <td>[GAAA]n gaga [GAAA]n aa GAAA gaga [GAAA]n N22 GAAA gtaa [GAAA]n aaa [GAAA]n aaa [GAAA]n</td>\n",
       "      <td>xy</td>\n",
       "    </tr>\n",
       "  </tbody>\n",
       "</table>\n",
       "<p>136 rows × 4 columns</p>\n",
       "</div>"
      ],
      "text/plain": [
       "                     position             marker  \\\n",
       "0    chr1:163589926-163590185            D1S1677   \n",
       "1    chr1:230769516-230769783            D1S1656   \n",
       "2        chr2:1489553-1489784               TPOX   \n",
       "3      chr2:68011847-68012094             D2S441   \n",
       "4    chr2:168788793-168789036            D2S1776   \n",
       "..                        ...                ...   \n",
       "131  chrX:134520365-134520719           DXS10101   \n",
       "132  chrX:150403692-150404185  DXS10146_(GRCH38)   \n",
       "133  chrX:150403692-150404185  DXS10146_(GRCH37)   \n",
       "134  chrX:150481726-150482131  DXS10134_(GRCH37)   \n",
       "135  chrX:150481726-150482131  DXS10134_(GRCH38)   \n",
       "\n",
       "                                                                                      pattern  \\\n",
       "0                                                                                   [TTCC]n *   \n",
       "1                                                                   CCTA [TCTA]n TCA [TCTA]n    \n",
       "2                                                                                     [AATG]n   \n",
       "3                                                                         [TCTA]n TCA [TCTA]n   \n",
       "4                                                                                     [AGAT]n   \n",
       "..                                                                                        ...   \n",
       "131                       [AAAG]n gaaagaag [GAAA]n a [GAAA]n aaga [AAAG]n aaaaagaa [AAAG]n AA   \n",
       "132                      [AAAG]n a [AAAG]n N10 [GGAA]n N10 [GGGA]n ggaaggga [GGAA]n a [GGAA]n   \n",
       "133  [TTCC]n t [TTCC]n t TTCC N12 TTCC TCCC N10 [TTCC]n tttctt [CTTT]n CTTC [CTTT]n t [CTTT]n   \n",
       "134  [GAAA]n gaga [GAAA]n aa GAAA gaga [GAAA]n N22 GAAA gtaa [GAAA]n aaa [GAAA]n aaa [GAAA]n    \n",
       "135  [GAAA]n gaga [GAAA]n aa GAAA gaga [GAAA]n N22 GAAA gtaa [GAAA]n aaa [GAAA]n aaa [GAAA]n    \n",
       "\n",
       "      metadata  \n",
       "0    autosomal  \n",
       "1    autosomal  \n",
       "2    autosomal  \n",
       "3    autosomal  \n",
       "4    autosomal  \n",
       "..         ...  \n",
       "131         xy  \n",
       "132         xy  \n",
       "133         xy  \n",
       "134         xy  \n",
       "135         xy  \n",
       "\n",
       "[136 rows x 4 columns]"
      ]
     },
     "execution_count": 10,
     "metadata": {},
     "output_type": "execute_result"
    }
   ],
   "source": [
    "import pandas as pd\n",
    "\n",
    "str_markers_ref = pd.read_csv('data/str_data/ref_str_data.csv')\n",
    "str_markers_ref"
   ]
  },
  {
   "cell_type": "markdown",
   "metadata": {},
   "source": [
    "# Annotation"
   ]
  },
  {
   "cell_type": "markdown",
   "metadata": {},
   "source": [
    "## Inspect actual reads"
   ]
  },
  {
   "cell_type": "code",
   "execution_count": 11,
   "metadata": {
    "ExecuteTime": {
     "end_time": "2020-05-29T17:45:11.987871Z",
     "start_time": "2020-05-29T17:45:05.753306Z"
    }
   },
   "outputs": [],
   "source": [
    "from str_finder.utils import inspect_storage_dir\n",
    "\n",
    "sl, ls = inspect_storage_dir('data/str_data/loci_reads', '\\\\')"
   ]
  },
  {
   "cell_type": "markdown",
   "metadata": {},
   "source": [
    "**Only markers with more than 10 samples will be annotated**"
   ]
  },
  {
   "cell_type": "code",
   "execution_count": 12,
   "metadata": {
    "ExecuteTime": {
     "end_time": "2020-05-29T17:45:12.074793Z",
     "start_time": "2020-05-29T17:45:11.989732Z"
    }
   },
   "outputs": [
    {
     "data": {
      "text/html": [
       "<div>\n",
       "<style scoped>\n",
       "    .dataframe tbody tr th:only-of-type {\n",
       "        vertical-align: middle;\n",
       "    }\n",
       "\n",
       "    .dataframe tbody tr th {\n",
       "        vertical-align: top;\n",
       "    }\n",
       "\n",
       "    .dataframe thead th {\n",
       "        text-align: right;\n",
       "    }\n",
       "</style>\n",
       "<table border=\"1\" class=\"dataframe\">\n",
       "  <thead>\n",
       "    <tr style=\"text-align: right;\">\n",
       "      <th></th>\n",
       "      <th>locus</th>\n",
       "      <th>samples</th>\n",
       "    </tr>\n",
       "  </thead>\n",
       "  <tbody>\n",
       "    <tr>\n",
       "      <th>0</th>\n",
       "      <td>D12ATA63</td>\n",
       "      <td>S1, S10, S11, S12, S13, S14, S15, S16, S17, S18, S19, S2, S20, S21, S22, S23, S24, S25, S26, S27, S28, S29, S3, S30, S31, S32, S33, S34, S35, S36, S37, S38, S39, S4, S40, S41, S42, S43, S44, S45, S46, S47, S48, S5, S6, S7, S8, S9</td>\n",
       "    </tr>\n",
       "    <tr>\n",
       "      <th>1</th>\n",
       "      <td>D14S1434</td>\n",
       "      <td>S1, S10, S11, S12, S13, S14, S15, S16, S17, S18, S19, S2, S20, S21, S22, S23, S24, S25, S26, S27, S28, S29, S3, S30, S31, S32, S33, S34, S35, S36, S37, S38, S39, S4, S40, S41, S42, S43, S44, S45, S46, S47, S48, S5, S6, S7, S8, S9</td>\n",
       "    </tr>\n",
       "    <tr>\n",
       "      <th>2</th>\n",
       "      <td>D14S608</td>\n",
       "      <td>S1</td>\n",
       "    </tr>\n",
       "    <tr>\n",
       "      <th>3</th>\n",
       "      <td>D1S1677</td>\n",
       "      <td>S1, S10, S11, S12, S13, S14, S15, S16, S17, S18, S19, S2, S20, S21, S22, S23, S24, S25, S26, S27, S28, S29, S3, S30, S31, S32, S33, S34, S35, S36, S37, S38, S39, S4, S40, S41, S42, S43, S44, S45, S46, S47, S48, S5, S6, S7, S8, S9</td>\n",
       "    </tr>\n",
       "    <tr>\n",
       "      <th>4</th>\n",
       "      <td>D2S1360</td>\n",
       "      <td>S1</td>\n",
       "    </tr>\n",
       "    <tr>\n",
       "      <th>5</th>\n",
       "      <td>D2S1776</td>\n",
       "      <td>S1, S10, S11, S12, S13, S14, S15, S16, S17, S18, S19, S2, S20, S21, S22, S23, S24, S25, S26, S27, S28, S29, S3, S30, S31, S32, S33, S34, S35, S36, S37, S38, S39, S4, S40, S41, S42, S43, S44, S45, S46, S47, S48, S5, S6, S7, S8, S9</td>\n",
       "    </tr>\n",
       "    <tr>\n",
       "      <th>6</th>\n",
       "      <td>D3S4529</td>\n",
       "      <td>S1, S10, S11, S12, S13, S14, S15, S16, S17, S18, S19, S2, S20, S21, S22, S23, S24, S25, S26, S27, S28, S29, S3, S30, S31, S32, S33, S34, S35, S36, S37, S38, S39, S4, S40, S41, S42, S43, S44, S45, S46, S47, S48, S5, S6, S7, S8, S9</td>\n",
       "    </tr>\n",
       "    <tr>\n",
       "      <th>7</th>\n",
       "      <td>D4S2366</td>\n",
       "      <td>S1, S17</td>\n",
       "    </tr>\n",
       "    <tr>\n",
       "      <th>8</th>\n",
       "      <td>D5S2800</td>\n",
       "      <td>S1, S10, S11, S12, S13, S14, S15, S16, S17, S18, S19, S2, S20, S21, S22, S23, S24, S25, S26, S27, S28, S29, S3, S30, S31, S32, S33, S34, S35, S36, S37, S38, S39, S4, S40, S41, S42, S43, S44, S45, S46, S47, S48, S5, S6, S7, S8, S9</td>\n",
       "    </tr>\n",
       "    <tr>\n",
       "      <th>9</th>\n",
       "      <td>D6S474</td>\n",
       "      <td>S1, S10, S11, S12, S13, S14, S15, S16, S17, S18, S19, S2, S20, S21, S22, S23, S24, S25, S26, S27, S28, S29, S3, S30, S31, S32, S33, S34, S35, S36, S37, S38, S39, S4, S40, S41, S42, S43, S44, S45, S46, S47, S48, S5, S6, S7, S8, S9</td>\n",
       "    </tr>\n",
       "    <tr>\n",
       "      <th>10</th>\n",
       "      <td>DXS10079</td>\n",
       "      <td>S1, S10, S11, S12, S13, S14, S15, S16, S17, S18, S19, S2, S20, S21, S22, S23, S24, S25, S26, S27, S28, S29, S3, S30, S31, S32, S33, S34, S35, S36, S37, S38, S39, S4, S40, S41, S42, S43, S44, S45, S46, S47, S48, S5, S6, S7, S8, S9</td>\n",
       "    </tr>\n",
       "    <tr>\n",
       "      <th>11</th>\n",
       "      <td>DXS10101</td>\n",
       "      <td>S1, S10, S11, S12, S13, S14, S15, S16, S17, S18, S19, S2, S20, S21, S22, S23, S24, S25, S26, S27, S28, S29, S3, S30, S31, S32, S33, S34, S35, S36, S37, S38, S39, S4, S40, S41, S42, S43, S44, S45, S46, S47, S48, S5, S6, S7, S8, S9</td>\n",
       "    </tr>\n",
       "    <tr>\n",
       "      <th>12</th>\n",
       "      <td>DXS10134_(GRCH38)</td>\n",
       "      <td>S1, S10, S11, S12, S13, S14, S15, S16, S17, S18, S19, S2, S20, S21, S22, S23, S24, S25, S26, S27, S28, S29, S3, S30, S31, S32, S33, S34, S35, S36, S37, S38, S39, S4, S40, S41, S42, S43, S44, S45, S46, S47, S48, S5, S6, S7, S8, S9</td>\n",
       "    </tr>\n",
       "    <tr>\n",
       "      <th>13</th>\n",
       "      <td>DXS10146_(GRCH38)</td>\n",
       "      <td>S1, S10, S11, S12, S13, S14, S15, S16, S17, S18, S19, S2, S20, S21, S22, S23, S24, S25, S26, S27, S28, S29, S3, S30, S31, S32, S33, S34, S35, S36, S37, S38, S39, S4, S40, S41, S42, S43, S44, S45, S46, S47, S48, S5, S6, S7, S8, S9</td>\n",
       "    </tr>\n",
       "    <tr>\n",
       "      <th>14</th>\n",
       "      <td>DXS10148</td>\n",
       "      <td>S1, S10, S11, S12, S13, S14, S15, S16, S17, S18, S19, S2, S20, S21, S22, S23, S24, S25, S26, S27, S28, S29, S3, S30, S31, S32, S33, S34, S35, S36, S37, S38, S39, S4, S40, S41, S42, S43, S44, S45, S46, S47, S48, S5, S6, S7, S8, S9</td>\n",
       "    </tr>\n",
       "    <tr>\n",
       "      <th>15</th>\n",
       "      <td>DYS393</td>\n",
       "      <td>S1, S10, S11, S12, S13, S14, S15, S16, S17, S18, S19, S2, S20, S21, S22, S23, S24, S25, S26, S27, S28, S29, S3, S30, S31, S32, S33, S34, S35, S36, S37, S38, S39, S4, S40, S41, S42, S43, S44, S45, S46, S47, S48, S5, S6, S8, S9</td>\n",
       "    </tr>\n",
       "    <tr>\n",
       "      <th>16</th>\n",
       "      <td>DYS456</td>\n",
       "      <td>S1, S10, S11, S12, S13, S14, S15, S16, S17, S18, S19, S2, S20, S21, S22, S23, S24, S26, S27, S28, S29, S3, S30, S32, S33, S34, S35, S36, S37, S38, S39, S4, S40, S41, S42, S43, S44, S45, S46, S47, S48, S5, S6, S8, S9</td>\n",
       "    </tr>\n",
       "    <tr>\n",
       "      <th>17</th>\n",
       "      <td>DYS391</td>\n",
       "      <td>S10, S11, S12, S13, S14, S15, S16, S17, S18, S19, S2, S20, S21, S22, S23, S24, S26, S27, S28, S29, S3, S30, S32, S33, S34, S35, S36, S37, S38, S39, S4, S40, S41, S42, S43, S44, S45, S46, S47, S48, S5, S6, S8, S9</td>\n",
       "    </tr>\n",
       "    <tr>\n",
       "      <th>18</th>\n",
       "      <td>DYS438_(GRCH38)</td>\n",
       "      <td>S10, S11, S12, S13, S14, S15, S16, S17, S18, S19, S2, S20, S21, S22, S23, S24, S26, S27, S28, S29, S3, S30, S32, S33, S34, S35, S36, S37, S38, S39, S4, S40, S41, S42, S43, S44, S45, S46, S47, S48, S5, S6, S8, S9</td>\n",
       "    </tr>\n",
       "    <tr>\n",
       "      <th>19</th>\n",
       "      <td>DYS439_(GRCH38)</td>\n",
       "      <td>S10, S11, S13, S14, S15, S17, S18, S19, S21, S23, S24, S27, S28, S29, S3, S33, S34, S35, S36, S37, S38, S39, S4, S40, S41, S43, S44, S45, S46, S47, S48, S5, S6, S8, S9</td>\n",
       "    </tr>\n",
       "    <tr>\n",
       "      <th>20</th>\n",
       "      <td>DYS449</td>\n",
       "      <td>S10, S11, S12, S13, S14, S15, S16, S17, S18, S19, S2, S20, S21, S22, S23, S24, S26, S27, S28, S29, S3, S30, S32, S33, S34, S35, S36, S37, S38, S39, S4, S40, S41, S42, S43, S44, S45, S46, S47, S48, S5, S6, S8, S9</td>\n",
       "    </tr>\n",
       "    <tr>\n",
       "      <th>21</th>\n",
       "      <td>DYS458</td>\n",
       "      <td>S10, S11, S12, S13, S14, S15, S16, S17, S18, S19, S2, S20, S21, S22, S23, S24, S26, S27, S28, S29, S3, S30, S32, S33, S34, S35, S36, S37, S38, S39, S4, S40, S41, S42, S43, S44, S45, S46, S47, S48, S5, S6, S8, S9</td>\n",
       "    </tr>\n",
       "    <tr>\n",
       "      <th>22</th>\n",
       "      <td>DYS518</td>\n",
       "      <td>S10, S11, S12, S13, S14, S15, S16, S17, S18, S19, S2, S20, S21, S22, S23, S24, S25, S26, S27, S28, S29, S3, S30, S32, S33, S34, S35, S36, S37, S38, S39, S4, S40, S41, S42, S43, S44, S45, S46, S47, S48, S5, S6, S8, S9</td>\n",
       "    </tr>\n",
       "    <tr>\n",
       "      <th>23</th>\n",
       "      <td>DYS627</td>\n",
       "      <td>S10, S11, S12, S13, S14, S15, S16, S17, S18, S19, S2, S20, S21, S22, S23, S24, S26, S27, S28, S29, S3, S30, S32, S33, S34, S35, S36, S37, S38, S39, S4, S40, S41, S42, S43, S44, S45, S46, S47, S48, S5, S6, S8, S9</td>\n",
       "    </tr>\n",
       "    <tr>\n",
       "      <th>24</th>\n",
       "      <td>D6S1017</td>\n",
       "      <td>S11</td>\n",
       "    </tr>\n",
       "    <tr>\n",
       "      <th>25</th>\n",
       "      <td>D15S659</td>\n",
       "      <td>S13, S44</td>\n",
       "    </tr>\n",
       "    <tr>\n",
       "      <th>26</th>\n",
       "      <td>D10S1435</td>\n",
       "      <td>S14</td>\n",
       "    </tr>\n",
       "    <tr>\n",
       "      <th>27</th>\n",
       "      <td>DYF387S1_fragment_1</td>\n",
       "      <td>S14</td>\n",
       "    </tr>\n",
       "    <tr>\n",
       "      <th>28</th>\n",
       "      <td>DYS385b</td>\n",
       "      <td>S16</td>\n",
       "    </tr>\n",
       "    <tr>\n",
       "      <th>29</th>\n",
       "      <td>CSF1PO</td>\n",
       "      <td>S19</td>\n",
       "    </tr>\n",
       "    <tr>\n",
       "      <th>30</th>\n",
       "      <td>D20S1082</td>\n",
       "      <td>S23</td>\n",
       "    </tr>\n",
       "    <tr>\n",
       "      <th>31</th>\n",
       "      <td>D22GATA198B05</td>\n",
       "      <td>S26</td>\n",
       "    </tr>\n",
       "    <tr>\n",
       "      <th>32</th>\n",
       "      <td>D8S1115</td>\n",
       "      <td>S26</td>\n",
       "    </tr>\n",
       "    <tr>\n",
       "      <th>33</th>\n",
       "      <td>VWA</td>\n",
       "      <td>S26</td>\n",
       "    </tr>\n",
       "    <tr>\n",
       "      <th>34</th>\n",
       "      <td>DYS448</td>\n",
       "      <td>S29</td>\n",
       "    </tr>\n",
       "    <tr>\n",
       "      <th>35</th>\n",
       "      <td>D17S1301</td>\n",
       "      <td>S30</td>\n",
       "    </tr>\n",
       "    <tr>\n",
       "      <th>36</th>\n",
       "      <td>Y-GATA-H4</td>\n",
       "      <td>S30</td>\n",
       "    </tr>\n",
       "    <tr>\n",
       "      <th>37</th>\n",
       "      <td>D1S1627</td>\n",
       "      <td>S31</td>\n",
       "    </tr>\n",
       "    <tr>\n",
       "      <th>38</th>\n",
       "      <td>D2S1338</td>\n",
       "      <td>S31</td>\n",
       "    </tr>\n",
       "    <tr>\n",
       "      <th>39</th>\n",
       "      <td>DYS481</td>\n",
       "      <td>S32</td>\n",
       "    </tr>\n",
       "    <tr>\n",
       "      <th>40</th>\n",
       "      <td>D11S4463</td>\n",
       "      <td>S33</td>\n",
       "    </tr>\n",
       "    <tr>\n",
       "      <th>41</th>\n",
       "      <td>D9S2157</td>\n",
       "      <td>S33</td>\n",
       "    </tr>\n",
       "    <tr>\n",
       "      <th>42</th>\n",
       "      <td>DYF403S1b1_(341_NT)</td>\n",
       "      <td>S35</td>\n",
       "    </tr>\n",
       "    <tr>\n",
       "      <th>43</th>\n",
       "      <td>D8S1132</td>\n",
       "      <td>S4</td>\n",
       "    </tr>\n",
       "    <tr>\n",
       "      <th>44</th>\n",
       "      <td>D4S2408</td>\n",
       "      <td>S44</td>\n",
       "    </tr>\n",
       "    <tr>\n",
       "      <th>45</th>\n",
       "      <td>DYS464_fragment_1</td>\n",
       "      <td>S44</td>\n",
       "    </tr>\n",
       "    <tr>\n",
       "      <th>46</th>\n",
       "      <td>DYF404S1_fragment_1</td>\n",
       "      <td>S45</td>\n",
       "    </tr>\n",
       "    <tr>\n",
       "      <th>47</th>\n",
       "      <td>D6S1043</td>\n",
       "      <td>S7</td>\n",
       "    </tr>\n",
       "    <tr>\n",
       "      <th>48</th>\n",
       "      <td>DXS7132</td>\n",
       "      <td>S7</td>\n",
       "    </tr>\n",
       "  </tbody>\n",
       "</table>\n",
       "</div>"
      ],
      "text/plain": [
       "                  locus  \\\n",
       "0              D12ATA63   \n",
       "1              D14S1434   \n",
       "2               D14S608   \n",
       "3               D1S1677   \n",
       "4               D2S1360   \n",
       "5               D2S1776   \n",
       "6               D3S4529   \n",
       "7               D4S2366   \n",
       "8               D5S2800   \n",
       "9                D6S474   \n",
       "10             DXS10079   \n",
       "11             DXS10101   \n",
       "12    DXS10134_(GRCH38)   \n",
       "13    DXS10146_(GRCH38)   \n",
       "14             DXS10148   \n",
       "15               DYS393   \n",
       "16               DYS456   \n",
       "17               DYS391   \n",
       "18      DYS438_(GRCH38)   \n",
       "19      DYS439_(GRCH38)   \n",
       "20               DYS449   \n",
       "21               DYS458   \n",
       "22               DYS518   \n",
       "23               DYS627   \n",
       "24              D6S1017   \n",
       "25              D15S659   \n",
       "26             D10S1435   \n",
       "27  DYF387S1_fragment_1   \n",
       "28              DYS385b   \n",
       "29               CSF1PO   \n",
       "30             D20S1082   \n",
       "31        D22GATA198B05   \n",
       "32              D8S1115   \n",
       "33                  VWA   \n",
       "34               DYS448   \n",
       "35             D17S1301   \n",
       "36            Y-GATA-H4   \n",
       "37              D1S1627   \n",
       "38              D2S1338   \n",
       "39               DYS481   \n",
       "40             D11S4463   \n",
       "41              D9S2157   \n",
       "42  DYF403S1b1_(341_NT)   \n",
       "43              D8S1132   \n",
       "44              D4S2408   \n",
       "45    DYS464_fragment_1   \n",
       "46  DYF404S1_fragment_1   \n",
       "47              D6S1043   \n",
       "48              DXS7132   \n",
       "\n",
       "                                                                                                                                                                                                                                  samples  \n",
       "0   S1, S10, S11, S12, S13, S14, S15, S16, S17, S18, S19, S2, S20, S21, S22, S23, S24, S25, S26, S27, S28, S29, S3, S30, S31, S32, S33, S34, S35, S36, S37, S38, S39, S4, S40, S41, S42, S43, S44, S45, S46, S47, S48, S5, S6, S7, S8, S9  \n",
       "1   S1, S10, S11, S12, S13, S14, S15, S16, S17, S18, S19, S2, S20, S21, S22, S23, S24, S25, S26, S27, S28, S29, S3, S30, S31, S32, S33, S34, S35, S36, S37, S38, S39, S4, S40, S41, S42, S43, S44, S45, S46, S47, S48, S5, S6, S7, S8, S9  \n",
       "2                                                                                                                                                                                                                                      S1  \n",
       "3   S1, S10, S11, S12, S13, S14, S15, S16, S17, S18, S19, S2, S20, S21, S22, S23, S24, S25, S26, S27, S28, S29, S3, S30, S31, S32, S33, S34, S35, S36, S37, S38, S39, S4, S40, S41, S42, S43, S44, S45, S46, S47, S48, S5, S6, S7, S8, S9  \n",
       "4                                                                                                                                                                                                                                      S1  \n",
       "5   S1, S10, S11, S12, S13, S14, S15, S16, S17, S18, S19, S2, S20, S21, S22, S23, S24, S25, S26, S27, S28, S29, S3, S30, S31, S32, S33, S34, S35, S36, S37, S38, S39, S4, S40, S41, S42, S43, S44, S45, S46, S47, S48, S5, S6, S7, S8, S9  \n",
       "6   S1, S10, S11, S12, S13, S14, S15, S16, S17, S18, S19, S2, S20, S21, S22, S23, S24, S25, S26, S27, S28, S29, S3, S30, S31, S32, S33, S34, S35, S36, S37, S38, S39, S4, S40, S41, S42, S43, S44, S45, S46, S47, S48, S5, S6, S7, S8, S9  \n",
       "7                                                                                                                                                                                                                                 S1, S17  \n",
       "8   S1, S10, S11, S12, S13, S14, S15, S16, S17, S18, S19, S2, S20, S21, S22, S23, S24, S25, S26, S27, S28, S29, S3, S30, S31, S32, S33, S34, S35, S36, S37, S38, S39, S4, S40, S41, S42, S43, S44, S45, S46, S47, S48, S5, S6, S7, S8, S9  \n",
       "9   S1, S10, S11, S12, S13, S14, S15, S16, S17, S18, S19, S2, S20, S21, S22, S23, S24, S25, S26, S27, S28, S29, S3, S30, S31, S32, S33, S34, S35, S36, S37, S38, S39, S4, S40, S41, S42, S43, S44, S45, S46, S47, S48, S5, S6, S7, S8, S9  \n",
       "10  S1, S10, S11, S12, S13, S14, S15, S16, S17, S18, S19, S2, S20, S21, S22, S23, S24, S25, S26, S27, S28, S29, S3, S30, S31, S32, S33, S34, S35, S36, S37, S38, S39, S4, S40, S41, S42, S43, S44, S45, S46, S47, S48, S5, S6, S7, S8, S9  \n",
       "11  S1, S10, S11, S12, S13, S14, S15, S16, S17, S18, S19, S2, S20, S21, S22, S23, S24, S25, S26, S27, S28, S29, S3, S30, S31, S32, S33, S34, S35, S36, S37, S38, S39, S4, S40, S41, S42, S43, S44, S45, S46, S47, S48, S5, S6, S7, S8, S9  \n",
       "12  S1, S10, S11, S12, S13, S14, S15, S16, S17, S18, S19, S2, S20, S21, S22, S23, S24, S25, S26, S27, S28, S29, S3, S30, S31, S32, S33, S34, S35, S36, S37, S38, S39, S4, S40, S41, S42, S43, S44, S45, S46, S47, S48, S5, S6, S7, S8, S9  \n",
       "13  S1, S10, S11, S12, S13, S14, S15, S16, S17, S18, S19, S2, S20, S21, S22, S23, S24, S25, S26, S27, S28, S29, S3, S30, S31, S32, S33, S34, S35, S36, S37, S38, S39, S4, S40, S41, S42, S43, S44, S45, S46, S47, S48, S5, S6, S7, S8, S9  \n",
       "14  S1, S10, S11, S12, S13, S14, S15, S16, S17, S18, S19, S2, S20, S21, S22, S23, S24, S25, S26, S27, S28, S29, S3, S30, S31, S32, S33, S34, S35, S36, S37, S38, S39, S4, S40, S41, S42, S43, S44, S45, S46, S47, S48, S5, S6, S7, S8, S9  \n",
       "15      S1, S10, S11, S12, S13, S14, S15, S16, S17, S18, S19, S2, S20, S21, S22, S23, S24, S25, S26, S27, S28, S29, S3, S30, S31, S32, S33, S34, S35, S36, S37, S38, S39, S4, S40, S41, S42, S43, S44, S45, S46, S47, S48, S5, S6, S8, S9  \n",
       "16                S1, S10, S11, S12, S13, S14, S15, S16, S17, S18, S19, S2, S20, S21, S22, S23, S24, S26, S27, S28, S29, S3, S30, S32, S33, S34, S35, S36, S37, S38, S39, S4, S40, S41, S42, S43, S44, S45, S46, S47, S48, S5, S6, S8, S9  \n",
       "17                    S10, S11, S12, S13, S14, S15, S16, S17, S18, S19, S2, S20, S21, S22, S23, S24, S26, S27, S28, S29, S3, S30, S32, S33, S34, S35, S36, S37, S38, S39, S4, S40, S41, S42, S43, S44, S45, S46, S47, S48, S5, S6, S8, S9  \n",
       "18                    S10, S11, S12, S13, S14, S15, S16, S17, S18, S19, S2, S20, S21, S22, S23, S24, S26, S27, S28, S29, S3, S30, S32, S33, S34, S35, S36, S37, S38, S39, S4, S40, S41, S42, S43, S44, S45, S46, S47, S48, S5, S6, S8, S9  \n",
       "19                                                                S10, S11, S13, S14, S15, S17, S18, S19, S21, S23, S24, S27, S28, S29, S3, S33, S34, S35, S36, S37, S38, S39, S4, S40, S41, S43, S44, S45, S46, S47, S48, S5, S6, S8, S9  \n",
       "20                    S10, S11, S12, S13, S14, S15, S16, S17, S18, S19, S2, S20, S21, S22, S23, S24, S26, S27, S28, S29, S3, S30, S32, S33, S34, S35, S36, S37, S38, S39, S4, S40, S41, S42, S43, S44, S45, S46, S47, S48, S5, S6, S8, S9  \n",
       "21                    S10, S11, S12, S13, S14, S15, S16, S17, S18, S19, S2, S20, S21, S22, S23, S24, S26, S27, S28, S29, S3, S30, S32, S33, S34, S35, S36, S37, S38, S39, S4, S40, S41, S42, S43, S44, S45, S46, S47, S48, S5, S6, S8, S9  \n",
       "22               S10, S11, S12, S13, S14, S15, S16, S17, S18, S19, S2, S20, S21, S22, S23, S24, S25, S26, S27, S28, S29, S3, S30, S32, S33, S34, S35, S36, S37, S38, S39, S4, S40, S41, S42, S43, S44, S45, S46, S47, S48, S5, S6, S8, S9  \n",
       "23                    S10, S11, S12, S13, S14, S15, S16, S17, S18, S19, S2, S20, S21, S22, S23, S24, S26, S27, S28, S29, S3, S30, S32, S33, S34, S35, S36, S37, S38, S39, S4, S40, S41, S42, S43, S44, S45, S46, S47, S48, S5, S6, S8, S9  \n",
       "24                                                                                                                                                                                                                                    S11  \n",
       "25                                                                                                                                                                                                                               S13, S44  \n",
       "26                                                                                                                                                                                                                                    S14  \n",
       "27                                                                                                                                                                                                                                    S14  \n",
       "28                                                                                                                                                                                                                                    S16  \n",
       "29                                                                                                                                                                                                                                    S19  \n",
       "30                                                                                                                                                                                                                                    S23  \n",
       "31                                                                                                                                                                                                                                    S26  \n",
       "32                                                                                                                                                                                                                                    S26  \n",
       "33                                                                                                                                                                                                                                    S26  \n",
       "34                                                                                                                                                                                                                                    S29  \n",
       "35                                                                                                                                                                                                                                    S30  \n",
       "36                                                                                                                                                                                                                                    S30  \n",
       "37                                                                                                                                                                                                                                    S31  \n",
       "38                                                                                                                                                                                                                                    S31  \n",
       "39                                                                                                                                                                                                                                    S32  \n",
       "40                                                                                                                                                                                                                                    S33  \n",
       "41                                                                                                                                                                                                                                    S33  \n",
       "42                                                                                                                                                                                                                                    S35  \n",
       "43                                                                                                                                                                                                                                     S4  \n",
       "44                                                                                                                                                                                                                                    S44  \n",
       "45                                                                                                                                                                                                                                    S44  \n",
       "46                                                                                                                                                                                                                                    S45  \n",
       "47                                                                                                                                                                                                                                     S7  \n",
       "48                                                                                                                                                                                                                                     S7  "
      ]
     },
     "metadata": {},
     "output_type": "display_data"
    }
   ],
   "source": [
    "display(pd.DataFrame({\n",
    "    'locus': list(ls.keys()),\n",
    "    'samples': [', '.join(v.keys()) for k, v in ls.items()]\n",
    "}))"
   ]
  },
  {
   "cell_type": "markdown",
   "metadata": {},
   "source": [
    "## Annotate"
   ]
  },
  {
   "cell_type": "code",
   "execution_count": 13,
   "metadata": {
    "ExecuteTime": {
     "end_time": "2020-05-29T17:45:34.502640Z",
     "start_time": "2020-05-29T17:45:12.076732Z"
    },
    "scrolled": true
   },
   "outputs": [
    {
     "name": "stderr",
     "output_type": "stream",
     "text": [
      "c:\\users\\dzmitry_dzemidka\\appdata\\local\\continuum\\anaconda3\\envs\\genomics\\lib\\site-packages\\ipykernel_launcher.py:13: TqdmDeprecationWarning: This function will be removed in tqdm==5.0.0\n",
      "Please use `tqdm.notebook.tqdm` instead of `tqdm.tqdm_notebook`\n",
      "  del sys.path[0]\n"
     ]
    },
    {
     "data": {
      "application/vnd.jupyter.widget-view+json": {
       "model_id": "2a1e2ff14b4d4a88b9b3d3ce3d8b024c",
       "version_major": 2,
       "version_minor": 0
      },
      "text/plain": [
       "HBox(children=(FloatProgress(value=0.0, max=48.0), HTML(value='')))"
      ]
     },
     "metadata": {},
     "output_type": "display_data"
    },
    {
     "name": "stdout",
     "output_type": "stream",
     "text": [
      "\n"
     ]
    }
   ],
   "source": [
    "import tqdm \n",
    "from str_finder.utils import *\n",
    "from str_finder.repeat_pattern import GreedyRepeatPattern\n",
    "\n",
    "def get_pattern(str_markers_ref, locus):\n",
    "    locus_rp = str_markers_ref.query(f'marker == \"{locus}\"')[f'pattern'].values[0]\n",
    "    if locus_rp[-1] == '*':\n",
    "        locus_rp = ' '.join(locus_rp.split()[:-1])\n",
    "    return locus_rp\n",
    "\n",
    "\n",
    "results = []\n",
    "for s in tqdm.tqdm_notebook(sl):\n",
    "    df = pd.DataFrame({'sample_id': [s]})\n",
    "    for l, path in sl[s].items():\n",
    "        # Known locus\n",
    "        if l not in str_markers_ref.marker.tolist():\n",
    "            continue\n",
    "        # Locus with enough samples\n",
    "        if len(ls[l]) < 10:\n",
    "            continue\n",
    "        \n",
    "        # Retrieve the most common read (to speed up the process and remove outlier - reads with errors)\n",
    "        r = get_most_common_reads_from_path(path)\n",
    "        \n",
    "        if r is None:\n",
    "            for allele_id in range(1, 3):\n",
    "                df[f'{l}_{allele_id}'] = 0\n",
    "                df[f'{l}_{allele_id}_annotation'] = 'No available reads (with length > 100)'\n",
    "            continue\n",
    "\n",
    "            # Repeat pattern\n",
    "        locus_rp = get_pattern(str_markers_ref, l)\n",
    "        \n",
    "        if isinstance(locus_rp, str):\n",
    "            rp = GreedyRepeatPattern(locus_rp)\n",
    "            \n",
    "            alleles, annotations = check_repeat_pattern(rp, r)\n",
    "            result = retrieve_true_alleles(alleles)\n",
    "            \n",
    "            for allele_id, (allele, support) in enumerate(result):\n",
    "                df[f'{l}_{allele_id+1}'] = allele\n",
    "                df[f'{l}_{allele_id+1}_annotation'] = annotations[allele]\n",
    "                df[f'{l}_{allele_id+1}_support (# reads)'] = support\n",
    "        else:\n",
    "            for allele_id in range(1, 3):           \n",
    "                df[f'{l}_{allele_id}'] = 0\n",
    "                df[f'{l}_{allele_id}_annotation'] = 'No available patterns'\n",
    "    results.append(df)"
   ]
  },
  {
   "cell_type": "code",
   "execution_count": 14,
   "metadata": {
    "ExecuteTime": {
     "end_time": "2020-05-29T17:45:34.899644Z",
     "start_time": "2020-05-29T17:45:34.503613Z"
    }
   },
   "outputs": [],
   "source": [
    "annotations = pd.concat(results, axis=0).reset_index(drop=True)\n",
    "assert (\n",
    "    annotations[[c \n",
    "                 for c in annotations.columns\n",
    "                 if 'id' not in c and 'annotation' not in c and 'support' not in c\n",
    "                ]].sum(axis=0).sort_index() > 0\n",
    ").all()\n",
    "annotations = annotations[['sample_id'] + sorted(annotations.columns[1:])]"
   ]
  },
  {
   "cell_type": "code",
   "execution_count": 15,
   "metadata": {
    "ExecuteTime": {
     "end_time": "2020-05-29T17:45:36.036642Z",
     "start_time": "2020-05-29T17:45:34.900615Z"
    }
   },
   "outputs": [
    {
     "name": "stdout",
     "output_type": "stream",
     "text": [
      "Requirement already satisfied: openpyxl in c:\\users\\dzmitry_dzemidka\\appdata\\local\\continuum\\anaconda3\\envs\\genomics\\lib\\site-packages (3.0.3)\n",
      "Requirement already satisfied: jdcal in c:\\users\\dzmitry_dzemidka\\appdata\\local\\continuum\\anaconda3\\envs\\genomics\\lib\\site-packages (from openpyxl) (1.4.1)\n",
      "Requirement already satisfied: et-xmlfile in c:\\users\\dzmitry_dzemidka\\appdata\\local\\continuum\\anaconda3\\envs\\genomics\\lib\\site-packages (from openpyxl) (1.0.1)\n"
     ]
    }
   ],
   "source": [
    "!pip install openpyxl"
   ]
  },
  {
   "cell_type": "code",
   "execution_count": 16,
   "metadata": {
    "ExecuteTime": {
     "end_time": "2020-05-29T17:45:36.597796Z",
     "start_time": "2020-05-29T17:45:36.037640Z"
    }
   },
   "outputs": [],
   "source": [
    "annotations.to_excel('data/str_data/annotation_results_v5.xlsx', index=False)"
   ]
  }
 ],
 "metadata": {
  "kernelspec": {
   "display_name": "Python 3",
   "language": "python",
   "name": "python3"
  },
  "language_info": {
   "codemirror_mode": {
    "name": "ipython",
    "version": 3
   },
   "file_extension": ".py",
   "mimetype": "text/x-python",
   "name": "python",
   "nbconvert_exporter": "python",
   "pygments_lexer": "ipython3",
   "version": "3.6.6"
  },
  "toc": {
   "base_numbering": 1,
   "nav_menu": {},
   "number_sections": true,
   "sideBar": true,
   "skip_h1_title": false,
   "title_cell": "Table of Contents",
   "title_sidebar": "Contents",
   "toc_cell": false,
   "toc_position": {},
   "toc_section_display": true,
   "toc_window_display": true
  }
 },
 "nbformat": 4,
 "nbformat_minor": 4
}
