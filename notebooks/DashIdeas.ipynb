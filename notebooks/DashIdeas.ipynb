{
 "cells": [
  {
   "cell_type": "code",
   "execution_count": 1,
   "metadata": {},
   "outputs": [],
   "source": [
    "import os\n",
    "os.chdir(os.environ['PROJECT_ROOT'])\n",
    "\n",
    "%load_ext autoreload\n",
    "%autoreload 2"
   ]
  },
  {
   "cell_type": "code",
   "execution_count": 2,
   "metadata": {},
   "outputs": [],
   "source": [
    "import pandas as pd\n",
    "import numpy as np\n",
    "\n",
    "pd.set_option('max.columns', 100)\n",
    "pd.set_option('max.rows', 100)"
   ]
  },
  {
   "cell_type": "markdown",
   "metadata": {},
   "source": [
    "# Genotype -> geolocation"
   ]
  },
  {
   "cell_type": "code",
   "execution_count": 3,
   "metadata": {},
   "outputs": [],
   "source": [
    "import os\n",
    "import scipy.stats as st\n",
    "import folium\n",
    "from geolocation.config import TARGET_AREA\n",
    "from folium.plugins import HeatMap\n",
    "    \n",
    "import matplotlib.pyplot as plt\n",
    "import numpy as np\n",
    "\n",
    "def plot_data(data, c=False):\n",
    "    m = folium.Map([54, 28], tiles='stamentoner', zoom_start=6)\n",
    "    if c:\n",
    "        data = data[['lat', 'long']]\n",
    "    HeatMap(data, radius=10).add_to(m)\n",
    "    return m\n",
    "\n",
    "def plot_results(data, point, dt):\n",
    "    m = plot_data(data)\n",
    "    m.add_child(folium.Circle(*point[['lat', 'long']].values, radius=1.1e5*dt))\n",
    "    return m"
   ]
  },
  {
   "cell_type": "code",
   "execution_count": 4,
   "metadata": {},
   "outputs": [
    {
     "data": {
      "text/plain": [
       "((1169, 41), (62, 41), (65, 41))"
      ]
     },
     "execution_count": 4,
     "metadata": {},
     "output_type": "execute_result"
    }
   ],
   "source": [
    "from geolocation.config import AVAILABLE_LOCI, DATASETS\n",
    "\n",
    "X_train = pd.read_excel(DATASETS['train'])\n",
    "X_val = pd.read_excel(DATASETS['val'])\n",
    "X_test = pd.read_excel(DATASETS['test'])\n",
    "\n",
    "X_train.shape, X_val.shape, X_test.shape"
   ]
  },
  {
   "cell_type": "code",
   "execution_count": 5,
   "metadata": {},
   "outputs": [],
   "source": [
    "from geolocation.geolocation import Geolocator\n",
    "from geolocation.distance import D\n",
    "from geolocation.metrics import collect_q_metrics, collect_test_metrics\n",
    "from geolocation.candidates_ranking import RankingGeneratorGDLinkage"
   ]
  },
  {
   "cell_type": "code",
   "execution_count": null,
   "metadata": {},
   "outputs": [],
   "source": [
    "locator = (\n",
    "    Geolocator(X_train)\n",
    "    .set_candidates_generator('grid', grid_size=20)\n",
    ")"
   ]
  },
  {
   "cell_type": "markdown",
   "metadata": {},
   "source": [
    "# Bayes opt"
   ]
  },
  {
   "cell_type": "code",
   "execution_count": null,
   "metadata": {},
   "outputs": [],
   "source": [
    "??collect_q_metrics"
   ]
  },
  {
   "cell_type": "code",
   "execution_count": null,
   "metadata": {},
   "outputs": [],
   "source": [
    "from functools import partial\n",
    "\n",
    "def F(train, test, dt, k, **params):\n",
    "    locator = (\n",
    "        Geolocator(train)\n",
    "        .set_candidates_generator('grid', grid_size=20)\n",
    "        .set_ranking_generator('gdlink', **params)\n",
    "    )\n",
    "    batch_candidates = locator.batch_locate(test, k)\n",
    "    test_metrics = collect_test_metrics(dt, k, test, batch_candidates)\n",
    "    return test_metrics[f'hit_count@{k}_{dt}']\n",
    "\n",
    "def get_F(train, test, dt, k):\n",
    "    return partial(F, train=train, test=test, dt=dt, k=k)"
   ]
  },
  {
   "cell_type": "code",
   "execution_count": null,
   "metadata": {},
   "outputs": [],
   "source": [
    "from bayes_opt import BayesianOptimization\n",
    "from functools import partial\n",
    "from bayes_opt.logger import JSONLogger\n",
    "from bayes_opt.event import Events"
   ]
  },
  {
   "cell_type": "markdown",
   "metadata": {},
   "source": [
    "**Estimate thresholds**"
   ]
  },
  {
   "cell_type": "code",
   "execution_count": 6,
   "metadata": {},
   "outputs": [],
   "source": [
    "from geolocation.geolocation import Geolocator\n",
    "\n",
    "locator_r = (\n",
    "    Geolocator(X_train)\n",
    "    .set_candidates_generator('grid', grid_size=20)\n",
    "    .set_ranking_generator('random')\n",
    ")\n",
    "locator_bm = (\n",
    "    Geolocator(X_train)\n",
    "    .set_candidates_generator('f')\n",
    "    .set_ranking_generator('best_match')\n",
    ")\n",
    "locator_g = (\n",
    "    Geolocator(X_train)\n",
    "    .set_candidates_generator('f')\n",
    "    .set_ranking_generator('greedy')\n",
    ")"
   ]
  },
  {
   "cell_type": "code",
   "execution_count": 296,
   "metadata": {
    "scrolled": false
   },
   "outputs": [
    {
     "name": "stdout",
     "output_type": "stream",
     "text": [
      "0.25 1\n"
     ]
    },
    {
     "data": {
      "text/html": [
       "<div>\n",
       "<style scoped>\n",
       "    .dataframe tbody tr th:only-of-type {\n",
       "        vertical-align: middle;\n",
       "    }\n",
       "\n",
       "    .dataframe tbody tr th {\n",
       "        vertical-align: top;\n",
       "    }\n",
       "\n",
       "    .dataframe thead th {\n",
       "        text-align: right;\n",
       "    }\n",
       "</style>\n",
       "<table border=\"1\" class=\"dataframe\">\n",
       "  <thead>\n",
       "    <tr style=\"text-align: right;\">\n",
       "      <th></th>\n",
       "      <th>hit@1_0.25</th>\n",
       "      <th>hit_count@1_0.25</th>\n",
       "      <th>min_dist@1_0.25</th>\n",
       "      <th>median_dist@1_0.25:</th>\n",
       "      <th>compactness@1_0.25</th>\n",
       "      <th>coverage</th>\n",
       "      <th>mean_c_repeats</th>\n",
       "    </tr>\n",
       "  </thead>\n",
       "  <tbody>\n",
       "    <tr>\n",
       "      <th>0</th>\n",
       "      <td>0.000000</td>\n",
       "      <td>0.000000</td>\n",
       "      <td>3.678854</td>\n",
       "      <td>3.678854</td>\n",
       "      <td>0.0</td>\n",
       "      <td>58.0</td>\n",
       "      <td>1.068966</td>\n",
       "    </tr>\n",
       "    <tr>\n",
       "      <th>1</th>\n",
       "      <td>0.112903</td>\n",
       "      <td>0.112903</td>\n",
       "      <td>2.697057</td>\n",
       "      <td>2.697057</td>\n",
       "      <td>0.0</td>\n",
       "      <td>49.0</td>\n",
       "      <td>1.265306</td>\n",
       "    </tr>\n",
       "    <tr>\n",
       "      <th>2</th>\n",
       "      <td>0.080645</td>\n",
       "      <td>0.080645</td>\n",
       "      <td>2.747747</td>\n",
       "      <td>2.747747</td>\n",
       "      <td>0.0</td>\n",
       "      <td>31.0</td>\n",
       "      <td>2.000000</td>\n",
       "    </tr>\n",
       "  </tbody>\n",
       "</table>\n",
       "</div>"
      ],
      "text/plain": [
       "   hit@1_0.25  hit_count@1_0.25  min_dist@1_0.25  median_dist@1_0.25:  \\\n",
       "0    0.000000          0.000000         3.678854             3.678854   \n",
       "1    0.112903          0.112903         2.697057             2.697057   \n",
       "2    0.080645          0.080645         2.747747             2.747747   \n",
       "\n",
       "   compactness@1_0.25  coverage  mean_c_repeats  \n",
       "0                 0.0      58.0        1.068966  \n",
       "1                 0.0      49.0        1.265306  \n",
       "2                 0.0      31.0        2.000000  "
      ]
     },
     "metadata": {},
     "output_type": "display_data"
    },
    {
     "name": "stdout",
     "output_type": "stream",
     "text": [
      "0.25 5\n"
     ]
    },
    {
     "data": {
      "text/html": [
       "<div>\n",
       "<style scoped>\n",
       "    .dataframe tbody tr th:only-of-type {\n",
       "        vertical-align: middle;\n",
       "    }\n",
       "\n",
       "    .dataframe tbody tr th {\n",
       "        vertical-align: top;\n",
       "    }\n",
       "\n",
       "    .dataframe thead th {\n",
       "        text-align: right;\n",
       "    }\n",
       "</style>\n",
       "<table border=\"1\" class=\"dataframe\">\n",
       "  <thead>\n",
       "    <tr style=\"text-align: right;\">\n",
       "      <th></th>\n",
       "      <th>hit@5_0.25</th>\n",
       "      <th>hit_count@5_0.25</th>\n",
       "      <th>min_dist@5_0.25</th>\n",
       "      <th>median_dist@5_0.25:</th>\n",
       "      <th>compactness@5_0.25</th>\n",
       "      <th>coverage</th>\n",
       "      <th>mean_c_repeats</th>\n",
       "    </tr>\n",
       "  </thead>\n",
       "  <tbody>\n",
       "    <tr>\n",
       "      <th>0</th>\n",
       "      <td>0.032258</td>\n",
       "      <td>0.032258</td>\n",
       "      <td>1.542957</td>\n",
       "      <td>3.434920</td>\n",
       "      <td>2.607800</td>\n",
       "      <td>219.0</td>\n",
       "      <td>1.415525</td>\n",
       "    </tr>\n",
       "    <tr>\n",
       "      <th>1</th>\n",
       "      <td>0.112903</td>\n",
       "      <td>0.516129</td>\n",
       "      <td>2.624528</td>\n",
       "      <td>2.708826</td>\n",
       "      <td>0.090546</td>\n",
       "      <td>190.0</td>\n",
       "      <td>1.631579</td>\n",
       "    </tr>\n",
       "    <tr>\n",
       "      <th>2</th>\n",
       "      <td>0.290323</td>\n",
       "      <td>0.322581</td>\n",
       "      <td>1.051528</td>\n",
       "      <td>2.773751</td>\n",
       "      <td>1.908214</td>\n",
       "      <td>160.0</td>\n",
       "      <td>1.937500</td>\n",
       "    </tr>\n",
       "  </tbody>\n",
       "</table>\n",
       "</div>"
      ],
      "text/plain": [
       "   hit@5_0.25  hit_count@5_0.25  min_dist@5_0.25  median_dist@5_0.25:  \\\n",
       "0    0.032258          0.032258         1.542957             3.434920   \n",
       "1    0.112903          0.516129         2.624528             2.708826   \n",
       "2    0.290323          0.322581         1.051528             2.773751   \n",
       "\n",
       "   compactness@5_0.25  coverage  mean_c_repeats  \n",
       "0            2.607800     219.0        1.415525  \n",
       "1            0.090546     190.0        1.631579  \n",
       "2            1.908214     160.0        1.937500  "
      ]
     },
     "metadata": {},
     "output_type": "display_data"
    },
    {
     "name": "stdout",
     "output_type": "stream",
     "text": [
      "0.25 10\n"
     ]
    },
    {
     "data": {
      "text/html": [
       "<div>\n",
       "<style scoped>\n",
       "    .dataframe tbody tr th:only-of-type {\n",
       "        vertical-align: middle;\n",
       "    }\n",
       "\n",
       "    .dataframe tbody tr th {\n",
       "        vertical-align: top;\n",
       "    }\n",
       "\n",
       "    .dataframe thead th {\n",
       "        text-align: right;\n",
       "    }\n",
       "</style>\n",
       "<table border=\"1\" class=\"dataframe\">\n",
       "  <thead>\n",
       "    <tr style=\"text-align: right;\">\n",
       "      <th></th>\n",
       "      <th>hit@10_0.25</th>\n",
       "      <th>hit_count@10_0.25</th>\n",
       "      <th>min_dist@10_0.25</th>\n",
       "      <th>median_dist@10_0.25:</th>\n",
       "      <th>compactness@10_0.25</th>\n",
       "      <th>coverage</th>\n",
       "      <th>mean_c_repeats</th>\n",
       "    </tr>\n",
       "  </thead>\n",
       "  <tbody>\n",
       "    <tr>\n",
       "      <th>0</th>\n",
       "      <td>0.032258</td>\n",
       "      <td>0.032258</td>\n",
       "      <td>1.128500</td>\n",
       "      <td>3.427362</td>\n",
       "      <td>2.664570</td>\n",
       "      <td>315.0</td>\n",
       "      <td>1.968254</td>\n",
       "    </tr>\n",
       "    <tr>\n",
       "      <th>1</th>\n",
       "      <td>0.112903</td>\n",
       "      <td>1.000000</td>\n",
       "      <td>2.533378</td>\n",
       "      <td>2.722187</td>\n",
       "      <td>0.148163</td>\n",
       "      <td>278.0</td>\n",
       "      <td>2.230216</td>\n",
       "    </tr>\n",
       "    <tr>\n",
       "      <th>2</th>\n",
       "      <td>0.435484</td>\n",
       "      <td>0.500000</td>\n",
       "      <td>0.594743</td>\n",
       "      <td>2.913447</td>\n",
       "      <td>2.218704</td>\n",
       "      <td>252.0</td>\n",
       "      <td>2.460317</td>\n",
       "    </tr>\n",
       "  </tbody>\n",
       "</table>\n",
       "</div>"
      ],
      "text/plain": [
       "   hit@10_0.25  hit_count@10_0.25  min_dist@10_0.25  median_dist@10_0.25:  \\\n",
       "0     0.032258           0.032258          1.128500              3.427362   \n",
       "1     0.112903           1.000000          2.533378              2.722187   \n",
       "2     0.435484           0.500000          0.594743              2.913447   \n",
       "\n",
       "   compactness@10_0.25  coverage  mean_c_repeats  \n",
       "0             2.664570     315.0        1.968254  \n",
       "1             0.148163     278.0        2.230216  \n",
       "2             2.218704     252.0        2.460317  "
      ]
     },
     "metadata": {},
     "output_type": "display_data"
    },
    {
     "name": "stdout",
     "output_type": "stream",
     "text": [
      "0.25 20\n"
     ]
    },
    {
     "data": {
      "text/html": [
       "<div>\n",
       "<style scoped>\n",
       "    .dataframe tbody tr th:only-of-type {\n",
       "        vertical-align: middle;\n",
       "    }\n",
       "\n",
       "    .dataframe tbody tr th {\n",
       "        vertical-align: top;\n",
       "    }\n",
       "\n",
       "    .dataframe thead th {\n",
       "        text-align: right;\n",
       "    }\n",
       "</style>\n",
       "<table border=\"1\" class=\"dataframe\">\n",
       "  <thead>\n",
       "    <tr style=\"text-align: right;\">\n",
       "      <th></th>\n",
       "      <th>hit@20_0.25</th>\n",
       "      <th>hit_count@20_0.25</th>\n",
       "      <th>min_dist@20_0.25</th>\n",
       "      <th>median_dist@20_0.25:</th>\n",
       "      <th>compactness@20_0.25</th>\n",
       "      <th>coverage</th>\n",
       "      <th>mean_c_repeats</th>\n",
       "    </tr>\n",
       "  </thead>\n",
       "  <tbody>\n",
       "    <tr>\n",
       "      <th>0</th>\n",
       "      <td>0.096774</td>\n",
       "      <td>0.096774</td>\n",
       "      <td>0.694131</td>\n",
       "      <td>3.303913</td>\n",
       "      <td>2.691321</td>\n",
       "      <td>379.0</td>\n",
       "      <td>3.271768</td>\n",
       "    </tr>\n",
       "    <tr>\n",
       "      <th>1</th>\n",
       "      <td>0.129032</td>\n",
       "      <td>2.064516</td>\n",
       "      <td>2.354036</td>\n",
       "      <td>2.718883</td>\n",
       "      <td>0.230513</td>\n",
       "      <td>348.0</td>\n",
       "      <td>3.563218</td>\n",
       "    </tr>\n",
       "    <tr>\n",
       "      <th>2</th>\n",
       "      <td>0.661290</td>\n",
       "      <td>0.983871</td>\n",
       "      <td>0.254887</td>\n",
       "      <td>2.932963</td>\n",
       "      <td>2.223539</td>\n",
       "      <td>349.0</td>\n",
       "      <td>3.553009</td>\n",
       "    </tr>\n",
       "  </tbody>\n",
       "</table>\n",
       "</div>"
      ],
      "text/plain": [
       "   hit@20_0.25  hit_count@20_0.25  min_dist@20_0.25  median_dist@20_0.25:  \\\n",
       "0     0.096774           0.096774          0.694131              3.303913   \n",
       "1     0.129032           2.064516          2.354036              2.718883   \n",
       "2     0.661290           0.983871          0.254887              2.932963   \n",
       "\n",
       "   compactness@20_0.25  coverage  mean_c_repeats  \n",
       "0             2.691321     379.0        3.271768  \n",
       "1             0.230513     348.0        3.563218  \n",
       "2             2.223539     349.0        3.553009  "
      ]
     },
     "metadata": {},
     "output_type": "display_data"
    },
    {
     "name": "stdout",
     "output_type": "stream",
     "text": [
      "0.25 30\n"
     ]
    },
    {
     "data": {
      "text/html": [
       "<div>\n",
       "<style scoped>\n",
       "    .dataframe tbody tr th:only-of-type {\n",
       "        vertical-align: middle;\n",
       "    }\n",
       "\n",
       "    .dataframe tbody tr th {\n",
       "        vertical-align: top;\n",
       "    }\n",
       "\n",
       "    .dataframe thead th {\n",
       "        text-align: right;\n",
       "    }\n",
       "</style>\n",
       "<table border=\"1\" class=\"dataframe\">\n",
       "  <thead>\n",
       "    <tr style=\"text-align: right;\">\n",
       "      <th></th>\n",
       "      <th>hit@30_0.25</th>\n",
       "      <th>hit_count@30_0.25</th>\n",
       "      <th>min_dist@30_0.25</th>\n",
       "      <th>median_dist@30_0.25:</th>\n",
       "      <th>compactness@30_0.25</th>\n",
       "      <th>coverage</th>\n",
       "      <th>mean_c_repeats</th>\n",
       "    </tr>\n",
       "  </thead>\n",
       "  <tbody>\n",
       "    <tr>\n",
       "      <th>0</th>\n",
       "      <td>0.080645</td>\n",
       "      <td>0.080645</td>\n",
       "      <td>0.569096</td>\n",
       "      <td>3.292612</td>\n",
       "      <td>2.711699</td>\n",
       "      <td>397.0</td>\n",
       "      <td>4.685139</td>\n",
       "    </tr>\n",
       "    <tr>\n",
       "      <th>1</th>\n",
       "      <td>0.129032</td>\n",
       "      <td>3.112903</td>\n",
       "      <td>2.148231</td>\n",
       "      <td>2.702412</td>\n",
       "      <td>0.329313</td>\n",
       "      <td>385.0</td>\n",
       "      <td>4.831169</td>\n",
       "    </tr>\n",
       "    <tr>\n",
       "      <th>2</th>\n",
       "      <td>0.790323</td>\n",
       "      <td>1.483871</td>\n",
       "      <td>0.160619</td>\n",
       "      <td>2.924541</td>\n",
       "      <td>2.233738</td>\n",
       "      <td>377.0</td>\n",
       "      <td>4.933687</td>\n",
       "    </tr>\n",
       "  </tbody>\n",
       "</table>\n",
       "</div>"
      ],
      "text/plain": [
       "   hit@30_0.25  hit_count@30_0.25  min_dist@30_0.25  median_dist@30_0.25:  \\\n",
       "0     0.080645           0.080645          0.569096              3.292612   \n",
       "1     0.129032           3.112903          2.148231              2.702412   \n",
       "2     0.790323           1.483871          0.160619              2.924541   \n",
       "\n",
       "   compactness@30_0.25  coverage  mean_c_repeats  \n",
       "0             2.711699     397.0        4.685139  \n",
       "1             0.329313     385.0        4.831169  \n",
       "2             2.233738     377.0        4.933687  "
      ]
     },
     "metadata": {},
     "output_type": "display_data"
    },
    {
     "name": "stdout",
     "output_type": "stream",
     "text": [
      "0.5 1\n"
     ]
    },
    {
     "data": {
      "text/html": [
       "<div>\n",
       "<style scoped>\n",
       "    .dataframe tbody tr th:only-of-type {\n",
       "        vertical-align: middle;\n",
       "    }\n",
       "\n",
       "    .dataframe tbody tr th {\n",
       "        vertical-align: top;\n",
       "    }\n",
       "\n",
       "    .dataframe thead th {\n",
       "        text-align: right;\n",
       "    }\n",
       "</style>\n",
       "<table border=\"1\" class=\"dataframe\">\n",
       "  <thead>\n",
       "    <tr style=\"text-align: right;\">\n",
       "      <th></th>\n",
       "      <th>hit@1_0.5</th>\n",
       "      <th>hit_count@1_0.5</th>\n",
       "      <th>min_dist@1_0.5</th>\n",
       "      <th>median_dist@1_0.5:</th>\n",
       "      <th>compactness@1_0.5</th>\n",
       "      <th>coverage</th>\n",
       "      <th>mean_c_repeats</th>\n",
       "    </tr>\n",
       "  </thead>\n",
       "  <tbody>\n",
       "    <tr>\n",
       "      <th>0</th>\n",
       "      <td>0.032258</td>\n",
       "      <td>0.032258</td>\n",
       "      <td>3.359326</td>\n",
       "      <td>3.359326</td>\n",
       "      <td>0.0</td>\n",
       "      <td>57.0</td>\n",
       "      <td>1.087719</td>\n",
       "    </tr>\n",
       "    <tr>\n",
       "      <th>1</th>\n",
       "      <td>0.112903</td>\n",
       "      <td>0.112903</td>\n",
       "      <td>2.697057</td>\n",
       "      <td>2.697057</td>\n",
       "      <td>0.0</td>\n",
       "      <td>49.0</td>\n",
       "      <td>1.265306</td>\n",
       "    </tr>\n",
       "    <tr>\n",
       "      <th>2</th>\n",
       "      <td>0.080645</td>\n",
       "      <td>0.080645</td>\n",
       "      <td>2.747747</td>\n",
       "      <td>2.747747</td>\n",
       "      <td>0.0</td>\n",
       "      <td>31.0</td>\n",
       "      <td>2.000000</td>\n",
       "    </tr>\n",
       "  </tbody>\n",
       "</table>\n",
       "</div>"
      ],
      "text/plain": [
       "   hit@1_0.5  hit_count@1_0.5  min_dist@1_0.5  median_dist@1_0.5:  \\\n",
       "0   0.032258         0.032258        3.359326            3.359326   \n",
       "1   0.112903         0.112903        2.697057            2.697057   \n",
       "2   0.080645         0.080645        2.747747            2.747747   \n",
       "\n",
       "   compactness@1_0.5  coverage  mean_c_repeats  \n",
       "0                0.0      57.0        1.087719  \n",
       "1                0.0      49.0        1.265306  \n",
       "2                0.0      31.0        2.000000  "
      ]
     },
     "metadata": {},
     "output_type": "display_data"
    },
    {
     "name": "stdout",
     "output_type": "stream",
     "text": [
      "0.5 5\n"
     ]
    },
    {
     "data": {
      "text/html": [
       "<div>\n",
       "<style scoped>\n",
       "    .dataframe tbody tr th:only-of-type {\n",
       "        vertical-align: middle;\n",
       "    }\n",
       "\n",
       "    .dataframe tbody tr th {\n",
       "        vertical-align: top;\n",
       "    }\n",
       "\n",
       "    .dataframe thead th {\n",
       "        text-align: right;\n",
       "    }\n",
       "</style>\n",
       "<table border=\"1\" class=\"dataframe\">\n",
       "  <thead>\n",
       "    <tr style=\"text-align: right;\">\n",
       "      <th></th>\n",
       "      <th>hit@5_0.5</th>\n",
       "      <th>hit_count@5_0.5</th>\n",
       "      <th>min_dist@5_0.5</th>\n",
       "      <th>median_dist@5_0.5:</th>\n",
       "      <th>compactness@5_0.5</th>\n",
       "      <th>coverage</th>\n",
       "      <th>mean_c_repeats</th>\n",
       "    </tr>\n",
       "  </thead>\n",
       "  <tbody>\n",
       "    <tr>\n",
       "      <th>0</th>\n",
       "      <td>0.064516</td>\n",
       "      <td>0.064516</td>\n",
       "      <td>1.466406</td>\n",
       "      <td>3.308617</td>\n",
       "      <td>2.377173</td>\n",
       "      <td>215.0</td>\n",
       "      <td>1.441860</td>\n",
       "    </tr>\n",
       "    <tr>\n",
       "      <th>1</th>\n",
       "      <td>0.112903</td>\n",
       "      <td>0.564516</td>\n",
       "      <td>2.624528</td>\n",
       "      <td>2.708826</td>\n",
       "      <td>0.090546</td>\n",
       "      <td>190.0</td>\n",
       "      <td>1.631579</td>\n",
       "    </tr>\n",
       "    <tr>\n",
       "      <th>2</th>\n",
       "      <td>0.322581</td>\n",
       "      <td>0.354839</td>\n",
       "      <td>1.051528</td>\n",
       "      <td>2.773751</td>\n",
       "      <td>1.908214</td>\n",
       "      <td>160.0</td>\n",
       "      <td>1.937500</td>\n",
       "    </tr>\n",
       "  </tbody>\n",
       "</table>\n",
       "</div>"
      ],
      "text/plain": [
       "   hit@5_0.5  hit_count@5_0.5  min_dist@5_0.5  median_dist@5_0.5:  \\\n",
       "0   0.064516         0.064516        1.466406            3.308617   \n",
       "1   0.112903         0.564516        2.624528            2.708826   \n",
       "2   0.322581         0.354839        1.051528            2.773751   \n",
       "\n",
       "   compactness@5_0.5  coverage  mean_c_repeats  \n",
       "0           2.377173     215.0        1.441860  \n",
       "1           0.090546     190.0        1.631579  \n",
       "2           1.908214     160.0        1.937500  "
      ]
     },
     "metadata": {},
     "output_type": "display_data"
    },
    {
     "name": "stdout",
     "output_type": "stream",
     "text": [
      "0.5 10\n"
     ]
    },
    {
     "data": {
      "text/html": [
       "<div>\n",
       "<style scoped>\n",
       "    .dataframe tbody tr th:only-of-type {\n",
       "        vertical-align: middle;\n",
       "    }\n",
       "\n",
       "    .dataframe tbody tr th {\n",
       "        vertical-align: top;\n",
       "    }\n",
       "\n",
       "    .dataframe thead th {\n",
       "        text-align: right;\n",
       "    }\n",
       "</style>\n",
       "<table border=\"1\" class=\"dataframe\">\n",
       "  <thead>\n",
       "    <tr style=\"text-align: right;\">\n",
       "      <th></th>\n",
       "      <th>hit@10_0.5</th>\n",
       "      <th>hit_count@10_0.5</th>\n",
       "      <th>min_dist@10_0.5</th>\n",
       "      <th>median_dist@10_0.5:</th>\n",
       "      <th>compactness@10_0.5</th>\n",
       "      <th>coverage</th>\n",
       "      <th>mean_c_repeats</th>\n",
       "    </tr>\n",
       "  </thead>\n",
       "  <tbody>\n",
       "    <tr>\n",
       "      <th>0</th>\n",
       "      <td>0.258065</td>\n",
       "      <td>0.258065</td>\n",
       "      <td>0.974739</td>\n",
       "      <td>3.379577</td>\n",
       "      <td>2.707698</td>\n",
       "      <td>319.0</td>\n",
       "      <td>1.943574</td>\n",
       "    </tr>\n",
       "    <tr>\n",
       "      <th>1</th>\n",
       "      <td>0.112903</td>\n",
       "      <td>1.048387</td>\n",
       "      <td>2.533378</td>\n",
       "      <td>2.722187</td>\n",
       "      <td>0.148163</td>\n",
       "      <td>278.0</td>\n",
       "      <td>2.230216</td>\n",
       "    </tr>\n",
       "    <tr>\n",
       "      <th>2</th>\n",
       "      <td>0.516129</td>\n",
       "      <td>0.580645</td>\n",
       "      <td>0.594743</td>\n",
       "      <td>2.913447</td>\n",
       "      <td>2.218704</td>\n",
       "      <td>252.0</td>\n",
       "      <td>2.460317</td>\n",
       "    </tr>\n",
       "  </tbody>\n",
       "</table>\n",
       "</div>"
      ],
      "text/plain": [
       "   hit@10_0.5  hit_count@10_0.5  min_dist@10_0.5  median_dist@10_0.5:  \\\n",
       "0    0.258065          0.258065         0.974739             3.379577   \n",
       "1    0.112903          1.048387         2.533378             2.722187   \n",
       "2    0.516129          0.580645         0.594743             2.913447   \n",
       "\n",
       "   compactness@10_0.5  coverage  mean_c_repeats  \n",
       "0            2.707698     319.0        1.943574  \n",
       "1            0.148163     278.0        2.230216  \n",
       "2            2.218704     252.0        2.460317  "
      ]
     },
     "metadata": {},
     "output_type": "display_data"
    },
    {
     "name": "stdout",
     "output_type": "stream",
     "text": [
      "0.5 20\n"
     ]
    },
    {
     "data": {
      "text/html": [
       "<div>\n",
       "<style scoped>\n",
       "    .dataframe tbody tr th:only-of-type {\n",
       "        vertical-align: middle;\n",
       "    }\n",
       "\n",
       "    .dataframe tbody tr th {\n",
       "        vertical-align: top;\n",
       "    }\n",
       "\n",
       "    .dataframe thead th {\n",
       "        text-align: right;\n",
       "    }\n",
       "</style>\n",
       "<table border=\"1\" class=\"dataframe\">\n",
       "  <thead>\n",
       "    <tr style=\"text-align: right;\">\n",
       "      <th></th>\n",
       "      <th>hit@20_0.5</th>\n",
       "      <th>hit_count@20_0.5</th>\n",
       "      <th>min_dist@20_0.5</th>\n",
       "      <th>median_dist@20_0.5:</th>\n",
       "      <th>compactness@20_0.5</th>\n",
       "      <th>coverage</th>\n",
       "      <th>mean_c_repeats</th>\n",
       "    </tr>\n",
       "  </thead>\n",
       "  <tbody>\n",
       "    <tr>\n",
       "      <th>0</th>\n",
       "      <td>0.435484</td>\n",
       "      <td>0.580645</td>\n",
       "      <td>0.588664</td>\n",
       "      <td>3.199500</td>\n",
       "      <td>2.681686</td>\n",
       "      <td>390.0</td>\n",
       "      <td>3.179487</td>\n",
       "    </tr>\n",
       "    <tr>\n",
       "      <th>1</th>\n",
       "      <td>0.129032</td>\n",
       "      <td>2.129032</td>\n",
       "      <td>2.354036</td>\n",
       "      <td>2.718883</td>\n",
       "      <td>0.230513</td>\n",
       "      <td>348.0</td>\n",
       "      <td>3.563218</td>\n",
       "    </tr>\n",
       "    <tr>\n",
       "      <th>2</th>\n",
       "      <td>0.790323</td>\n",
       "      <td>1.193548</td>\n",
       "      <td>0.254887</td>\n",
       "      <td>2.932963</td>\n",
       "      <td>2.223539</td>\n",
       "      <td>349.0</td>\n",
       "      <td>3.553009</td>\n",
       "    </tr>\n",
       "  </tbody>\n",
       "</table>\n",
       "</div>"
      ],
      "text/plain": [
       "   hit@20_0.5  hit_count@20_0.5  min_dist@20_0.5  median_dist@20_0.5:  \\\n",
       "0    0.435484          0.580645         0.588664             3.199500   \n",
       "1    0.129032          2.129032         2.354036             2.718883   \n",
       "2    0.790323          1.193548         0.254887             2.932963   \n",
       "\n",
       "   compactness@20_0.5  coverage  mean_c_repeats  \n",
       "0            2.681686     390.0        3.179487  \n",
       "1            0.230513     348.0        3.563218  \n",
       "2            2.223539     349.0        3.553009  "
      ]
     },
     "metadata": {},
     "output_type": "display_data"
    },
    {
     "name": "stdout",
     "output_type": "stream",
     "text": [
      "0.5 30\n"
     ]
    },
    {
     "data": {
      "text/html": [
       "<div>\n",
       "<style scoped>\n",
       "    .dataframe tbody tr th:only-of-type {\n",
       "        vertical-align: middle;\n",
       "    }\n",
       "\n",
       "    .dataframe tbody tr th {\n",
       "        vertical-align: top;\n",
       "    }\n",
       "\n",
       "    .dataframe thead th {\n",
       "        text-align: right;\n",
       "    }\n",
       "</style>\n",
       "<table border=\"1\" class=\"dataframe\">\n",
       "  <thead>\n",
       "    <tr style=\"text-align: right;\">\n",
       "      <th></th>\n",
       "      <th>hit@30_0.5</th>\n",
       "      <th>hit_count@30_0.5</th>\n",
       "      <th>min_dist@30_0.5</th>\n",
       "      <th>median_dist@30_0.5:</th>\n",
       "      <th>compactness@30_0.5</th>\n",
       "      <th>coverage</th>\n",
       "      <th>mean_c_repeats</th>\n",
       "    </tr>\n",
       "  </thead>\n",
       "  <tbody>\n",
       "    <tr>\n",
       "      <th>0</th>\n",
       "      <td>0.435484</td>\n",
       "      <td>0.532258</td>\n",
       "      <td>0.583004</td>\n",
       "      <td>3.333345</td>\n",
       "      <td>2.759688</td>\n",
       "      <td>397.0</td>\n",
       "      <td>4.685139</td>\n",
       "    </tr>\n",
       "    <tr>\n",
       "      <th>1</th>\n",
       "      <td>0.129032</td>\n",
       "      <td>3.177419</td>\n",
       "      <td>2.148231</td>\n",
       "      <td>2.702412</td>\n",
       "      <td>0.329313</td>\n",
       "      <td>385.0</td>\n",
       "      <td>4.831169</td>\n",
       "    </tr>\n",
       "    <tr>\n",
       "      <th>2</th>\n",
       "      <td>0.887097</td>\n",
       "      <td>1.774194</td>\n",
       "      <td>0.160619</td>\n",
       "      <td>2.924541</td>\n",
       "      <td>2.233738</td>\n",
       "      <td>377.0</td>\n",
       "      <td>4.933687</td>\n",
       "    </tr>\n",
       "  </tbody>\n",
       "</table>\n",
       "</div>"
      ],
      "text/plain": [
       "   hit@30_0.5  hit_count@30_0.5  min_dist@30_0.5  median_dist@30_0.5:  \\\n",
       "0    0.435484          0.532258         0.583004             3.333345   \n",
       "1    0.129032          3.177419         2.148231             2.702412   \n",
       "2    0.887097          1.774194         0.160619             2.924541   \n",
       "\n",
       "   compactness@30_0.5  coverage  mean_c_repeats  \n",
       "0            2.759688     397.0        4.685139  \n",
       "1            0.329313     385.0        4.831169  \n",
       "2            2.233738     377.0        4.933687  "
      ]
     },
     "metadata": {},
     "output_type": "display_data"
    },
    {
     "name": "stdout",
     "output_type": "stream",
     "text": [
      "1 1\n"
     ]
    },
    {
     "data": {
      "text/html": [
       "<div>\n",
       "<style scoped>\n",
       "    .dataframe tbody tr th:only-of-type {\n",
       "        vertical-align: middle;\n",
       "    }\n",
       "\n",
       "    .dataframe tbody tr th {\n",
       "        vertical-align: top;\n",
       "    }\n",
       "\n",
       "    .dataframe thead th {\n",
       "        text-align: right;\n",
       "    }\n",
       "</style>\n",
       "<table border=\"1\" class=\"dataframe\">\n",
       "  <thead>\n",
       "    <tr style=\"text-align: right;\">\n",
       "      <th></th>\n",
       "      <th>hit@1_1</th>\n",
       "      <th>hit_count@1_1</th>\n",
       "      <th>min_dist@1_1</th>\n",
       "      <th>median_dist@1_1:</th>\n",
       "      <th>compactness@1_1</th>\n",
       "      <th>coverage</th>\n",
       "      <th>mean_c_repeats</th>\n",
       "    </tr>\n",
       "  </thead>\n",
       "  <tbody>\n",
       "    <tr>\n",
       "      <th>0</th>\n",
       "      <td>0.096774</td>\n",
       "      <td>0.096774</td>\n",
       "      <td>3.598799</td>\n",
       "      <td>3.598799</td>\n",
       "      <td>0.0</td>\n",
       "      <td>60.0</td>\n",
       "      <td>1.033333</td>\n",
       "    </tr>\n",
       "    <tr>\n",
       "      <th>1</th>\n",
       "      <td>0.129032</td>\n",
       "      <td>0.129032</td>\n",
       "      <td>2.697057</td>\n",
       "      <td>2.697057</td>\n",
       "      <td>0.0</td>\n",
       "      <td>49.0</td>\n",
       "      <td>1.265306</td>\n",
       "    </tr>\n",
       "    <tr>\n",
       "      <th>2</th>\n",
       "      <td>0.129032</td>\n",
       "      <td>0.129032</td>\n",
       "      <td>2.747747</td>\n",
       "      <td>2.747747</td>\n",
       "      <td>0.0</td>\n",
       "      <td>31.0</td>\n",
       "      <td>2.000000</td>\n",
       "    </tr>\n",
       "  </tbody>\n",
       "</table>\n",
       "</div>"
      ],
      "text/plain": [
       "    hit@1_1  hit_count@1_1  min_dist@1_1  median_dist@1_1:  compactness@1_1  \\\n",
       "0  0.096774       0.096774      3.598799          3.598799              0.0   \n",
       "1  0.129032       0.129032      2.697057          2.697057              0.0   \n",
       "2  0.129032       0.129032      2.747747          2.747747              0.0   \n",
       "\n",
       "   coverage  mean_c_repeats  \n",
       "0      60.0        1.033333  \n",
       "1      49.0        1.265306  \n",
       "2      31.0        2.000000  "
      ]
     },
     "metadata": {},
     "output_type": "display_data"
    },
    {
     "name": "stdout",
     "output_type": "stream",
     "text": [
      "1 5\n"
     ]
    },
    {
     "data": {
      "text/html": [
       "<div>\n",
       "<style scoped>\n",
       "    .dataframe tbody tr th:only-of-type {\n",
       "        vertical-align: middle;\n",
       "    }\n",
       "\n",
       "    .dataframe tbody tr th {\n",
       "        vertical-align: top;\n",
       "    }\n",
       "\n",
       "    .dataframe thead th {\n",
       "        text-align: right;\n",
       "    }\n",
       "</style>\n",
       "<table border=\"1\" class=\"dataframe\">\n",
       "  <thead>\n",
       "    <tr style=\"text-align: right;\">\n",
       "      <th></th>\n",
       "      <th>hit@5_1</th>\n",
       "      <th>hit_count@5_1</th>\n",
       "      <th>min_dist@5_1</th>\n",
       "      <th>median_dist@5_1:</th>\n",
       "      <th>compactness@5_1</th>\n",
       "      <th>coverage</th>\n",
       "      <th>mean_c_repeats</th>\n",
       "    </tr>\n",
       "  </thead>\n",
       "  <tbody>\n",
       "    <tr>\n",
       "      <th>0</th>\n",
       "      <td>0.435484</td>\n",
       "      <td>0.516129</td>\n",
       "      <td>1.304404</td>\n",
       "      <td>3.251080</td>\n",
       "      <td>2.472831</td>\n",
       "      <td>241.0</td>\n",
       "      <td>1.286307</td>\n",
       "    </tr>\n",
       "    <tr>\n",
       "      <th>1</th>\n",
       "      <td>0.129032</td>\n",
       "      <td>0.645161</td>\n",
       "      <td>2.624528</td>\n",
       "      <td>2.708826</td>\n",
       "      <td>0.090546</td>\n",
       "      <td>190.0</td>\n",
       "      <td>1.631579</td>\n",
       "    </tr>\n",
       "    <tr>\n",
       "      <th>2</th>\n",
       "      <td>0.516129</td>\n",
       "      <td>0.709677</td>\n",
       "      <td>1.051528</td>\n",
       "      <td>2.773751</td>\n",
       "      <td>1.908214</td>\n",
       "      <td>160.0</td>\n",
       "      <td>1.937500</td>\n",
       "    </tr>\n",
       "  </tbody>\n",
       "</table>\n",
       "</div>"
      ],
      "text/plain": [
       "    hit@5_1  hit_count@5_1  min_dist@5_1  median_dist@5_1:  compactness@5_1  \\\n",
       "0  0.435484       0.516129      1.304404          3.251080         2.472831   \n",
       "1  0.129032       0.645161      2.624528          2.708826         0.090546   \n",
       "2  0.516129       0.709677      1.051528          2.773751         1.908214   \n",
       "\n",
       "   coverage  mean_c_repeats  \n",
       "0     241.0        1.286307  \n",
       "1     190.0        1.631579  \n",
       "2     160.0        1.937500  "
      ]
     },
     "metadata": {},
     "output_type": "display_data"
    },
    {
     "name": "stdout",
     "output_type": "stream",
     "text": [
      "1 10\n"
     ]
    },
    {
     "data": {
      "text/html": [
       "<div>\n",
       "<style scoped>\n",
       "    .dataframe tbody tr th:only-of-type {\n",
       "        vertical-align: middle;\n",
       "    }\n",
       "\n",
       "    .dataframe tbody tr th {\n",
       "        vertical-align: top;\n",
       "    }\n",
       "\n",
       "    .dataframe thead th {\n",
       "        text-align: right;\n",
       "    }\n",
       "</style>\n",
       "<table border=\"1\" class=\"dataframe\">\n",
       "  <thead>\n",
       "    <tr style=\"text-align: right;\">\n",
       "      <th></th>\n",
       "      <th>hit@10_1</th>\n",
       "      <th>hit_count@10_1</th>\n",
       "      <th>min_dist@10_1</th>\n",
       "      <th>median_dist@10_1:</th>\n",
       "      <th>compactness@10_1</th>\n",
       "      <th>coverage</th>\n",
       "      <th>mean_c_repeats</th>\n",
       "    </tr>\n",
       "  </thead>\n",
       "  <tbody>\n",
       "    <tr>\n",
       "      <th>0</th>\n",
       "      <td>0.564516</td>\n",
       "      <td>0.725806</td>\n",
       "      <td>1.016112</td>\n",
       "      <td>3.273152</td>\n",
       "      <td>2.577111</td>\n",
       "      <td>312.0</td>\n",
       "      <td>1.987179</td>\n",
       "    </tr>\n",
       "    <tr>\n",
       "      <th>1</th>\n",
       "      <td>0.145161</td>\n",
       "      <td>1.306452</td>\n",
       "      <td>2.533378</td>\n",
       "      <td>2.722187</td>\n",
       "      <td>0.148163</td>\n",
       "      <td>278.0</td>\n",
       "      <td>2.230216</td>\n",
       "    </tr>\n",
       "    <tr>\n",
       "      <th>2</th>\n",
       "      <td>0.693548</td>\n",
       "      <td>1.225806</td>\n",
       "      <td>0.594743</td>\n",
       "      <td>2.913447</td>\n",
       "      <td>2.218704</td>\n",
       "      <td>252.0</td>\n",
       "      <td>2.460317</td>\n",
       "    </tr>\n",
       "  </tbody>\n",
       "</table>\n",
       "</div>"
      ],
      "text/plain": [
       "   hit@10_1  hit_count@10_1  min_dist@10_1  median_dist@10_1:  \\\n",
       "0  0.564516        0.725806       1.016112           3.273152   \n",
       "1  0.145161        1.306452       2.533378           2.722187   \n",
       "2  0.693548        1.225806       0.594743           2.913447   \n",
       "\n",
       "   compactness@10_1  coverage  mean_c_repeats  \n",
       "0          2.577111     312.0        1.987179  \n",
       "1          0.148163     278.0        2.230216  \n",
       "2          2.218704     252.0        2.460317  "
      ]
     },
     "metadata": {},
     "output_type": "display_data"
    },
    {
     "name": "stdout",
     "output_type": "stream",
     "text": [
      "1 20\n"
     ]
    },
    {
     "data": {
      "text/html": [
       "<div>\n",
       "<style scoped>\n",
       "    .dataframe tbody tr th:only-of-type {\n",
       "        vertical-align: middle;\n",
       "    }\n",
       "\n",
       "    .dataframe tbody tr th {\n",
       "        vertical-align: top;\n",
       "    }\n",
       "\n",
       "    .dataframe thead th {\n",
       "        text-align: right;\n",
       "    }\n",
       "</style>\n",
       "<table border=\"1\" class=\"dataframe\">\n",
       "  <thead>\n",
       "    <tr style=\"text-align: right;\">\n",
       "      <th></th>\n",
       "      <th>hit@20_1</th>\n",
       "      <th>hit_count@20_1</th>\n",
       "      <th>min_dist@20_1</th>\n",
       "      <th>median_dist@20_1:</th>\n",
       "      <th>compactness@20_1</th>\n",
       "      <th>coverage</th>\n",
       "      <th>mean_c_repeats</th>\n",
       "    </tr>\n",
       "  </thead>\n",
       "  <tbody>\n",
       "    <tr>\n",
       "      <th>0</th>\n",
       "      <td>0.790323</td>\n",
       "      <td>1.306452</td>\n",
       "      <td>0.713066</td>\n",
       "      <td>3.376207</td>\n",
       "      <td>2.746334</td>\n",
       "      <td>377.0</td>\n",
       "      <td>3.289125</td>\n",
       "    </tr>\n",
       "    <tr>\n",
       "      <th>1</th>\n",
       "      <td>0.209677</td>\n",
       "      <td>2.870968</td>\n",
       "      <td>2.354036</td>\n",
       "      <td>2.718883</td>\n",
       "      <td>0.230513</td>\n",
       "      <td>348.0</td>\n",
       "      <td>3.563218</td>\n",
       "    </tr>\n",
       "    <tr>\n",
       "      <th>2</th>\n",
       "      <td>0.903226</td>\n",
       "      <td>2.354839</td>\n",
       "      <td>0.254887</td>\n",
       "      <td>2.932963</td>\n",
       "      <td>2.223539</td>\n",
       "      <td>349.0</td>\n",
       "      <td>3.553009</td>\n",
       "    </tr>\n",
       "  </tbody>\n",
       "</table>\n",
       "</div>"
      ],
      "text/plain": [
       "   hit@20_1  hit_count@20_1  min_dist@20_1  median_dist@20_1:  \\\n",
       "0  0.790323        1.306452       0.713066           3.376207   \n",
       "1  0.209677        2.870968       2.354036           2.718883   \n",
       "2  0.903226        2.354839       0.254887           2.932963   \n",
       "\n",
       "   compactness@20_1  coverage  mean_c_repeats  \n",
       "0          2.746334     377.0        3.289125  \n",
       "1          0.230513     348.0        3.563218  \n",
       "2          2.223539     349.0        3.553009  "
      ]
     },
     "metadata": {},
     "output_type": "display_data"
    },
    {
     "name": "stdout",
     "output_type": "stream",
     "text": [
      "1 30\n"
     ]
    },
    {
     "data": {
      "text/html": [
       "<div>\n",
       "<style scoped>\n",
       "    .dataframe tbody tr th:only-of-type {\n",
       "        vertical-align: middle;\n",
       "    }\n",
       "\n",
       "    .dataframe tbody tr th {\n",
       "        vertical-align: top;\n",
       "    }\n",
       "\n",
       "    .dataframe thead th {\n",
       "        text-align: right;\n",
       "    }\n",
       "</style>\n",
       "<table border=\"1\" class=\"dataframe\">\n",
       "  <thead>\n",
       "    <tr style=\"text-align: right;\">\n",
       "      <th></th>\n",
       "      <th>hit@30_1</th>\n",
       "      <th>hit_count@30_1</th>\n",
       "      <th>min_dist@30_1</th>\n",
       "      <th>median_dist@30_1:</th>\n",
       "      <th>compactness@30_1</th>\n",
       "      <th>coverage</th>\n",
       "      <th>mean_c_repeats</th>\n",
       "    </tr>\n",
       "  </thead>\n",
       "  <tbody>\n",
       "    <tr>\n",
       "      <th>0</th>\n",
       "      <td>0.870968</td>\n",
       "      <td>1.983871</td>\n",
       "      <td>0.605509</td>\n",
       "      <td>3.248308</td>\n",
       "      <td>2.747911</td>\n",
       "      <td>400.0</td>\n",
       "      <td>4.650000</td>\n",
       "    </tr>\n",
       "    <tr>\n",
       "      <th>1</th>\n",
       "      <td>0.290323</td>\n",
       "      <td>4.516129</td>\n",
       "      <td>2.148231</td>\n",
       "      <td>2.702412</td>\n",
       "      <td>0.329313</td>\n",
       "      <td>385.0</td>\n",
       "      <td>4.831169</td>\n",
       "    </tr>\n",
       "    <tr>\n",
       "      <th>2</th>\n",
       "      <td>0.951613</td>\n",
       "      <td>3.354839</td>\n",
       "      <td>0.160619</td>\n",
       "      <td>2.924541</td>\n",
       "      <td>2.233738</td>\n",
       "      <td>377.0</td>\n",
       "      <td>4.933687</td>\n",
       "    </tr>\n",
       "  </tbody>\n",
       "</table>\n",
       "</div>"
      ],
      "text/plain": [
       "   hit@30_1  hit_count@30_1  min_dist@30_1  median_dist@30_1:  \\\n",
       "0  0.870968        1.983871       0.605509           3.248308   \n",
       "1  0.290323        4.516129       2.148231           2.702412   \n",
       "2  0.951613        3.354839       0.160619           2.924541   \n",
       "\n",
       "   compactness@30_1  coverage  mean_c_repeats  \n",
       "0          2.747911     400.0        4.650000  \n",
       "1          0.329313     385.0        4.831169  \n",
       "2          2.233738     377.0        4.933687  "
      ]
     },
     "metadata": {},
     "output_type": "display_data"
    },
    {
     "name": "stdout",
     "output_type": "stream",
     "text": [
      "2 1\n"
     ]
    },
    {
     "data": {
      "text/html": [
       "<div>\n",
       "<style scoped>\n",
       "    .dataframe tbody tr th:only-of-type {\n",
       "        vertical-align: middle;\n",
       "    }\n",
       "\n",
       "    .dataframe tbody tr th {\n",
       "        vertical-align: top;\n",
       "    }\n",
       "\n",
       "    .dataframe thead th {\n",
       "        text-align: right;\n",
       "    }\n",
       "</style>\n",
       "<table border=\"1\" class=\"dataframe\">\n",
       "  <thead>\n",
       "    <tr style=\"text-align: right;\">\n",
       "      <th></th>\n",
       "      <th>hit@1_2</th>\n",
       "      <th>hit_count@1_2</th>\n",
       "      <th>min_dist@1_2</th>\n",
       "      <th>median_dist@1_2:</th>\n",
       "      <th>compactness@1_2</th>\n",
       "      <th>coverage</th>\n",
       "      <th>mean_c_repeats</th>\n",
       "    </tr>\n",
       "  </thead>\n",
       "  <tbody>\n",
       "    <tr>\n",
       "      <th>0</th>\n",
       "      <td>0.161290</td>\n",
       "      <td>0.161290</td>\n",
       "      <td>3.515749</td>\n",
       "      <td>3.515749</td>\n",
       "      <td>0.0</td>\n",
       "      <td>57.0</td>\n",
       "      <td>1.087719</td>\n",
       "    </tr>\n",
       "    <tr>\n",
       "      <th>1</th>\n",
       "      <td>0.387097</td>\n",
       "      <td>0.387097</td>\n",
       "      <td>2.697057</td>\n",
       "      <td>2.697057</td>\n",
       "      <td>0.0</td>\n",
       "      <td>49.0</td>\n",
       "      <td>1.265306</td>\n",
       "    </tr>\n",
       "    <tr>\n",
       "      <th>2</th>\n",
       "      <td>0.387097</td>\n",
       "      <td>0.387097</td>\n",
       "      <td>2.747747</td>\n",
       "      <td>2.747747</td>\n",
       "      <td>0.0</td>\n",
       "      <td>31.0</td>\n",
       "      <td>2.000000</td>\n",
       "    </tr>\n",
       "  </tbody>\n",
       "</table>\n",
       "</div>"
      ],
      "text/plain": [
       "    hit@1_2  hit_count@1_2  min_dist@1_2  median_dist@1_2:  compactness@1_2  \\\n",
       "0  0.161290       0.161290      3.515749          3.515749              0.0   \n",
       "1  0.387097       0.387097      2.697057          2.697057              0.0   \n",
       "2  0.387097       0.387097      2.747747          2.747747              0.0   \n",
       "\n",
       "   coverage  mean_c_repeats  \n",
       "0      57.0        1.087719  \n",
       "1      49.0        1.265306  \n",
       "2      31.0        2.000000  "
      ]
     },
     "metadata": {},
     "output_type": "display_data"
    },
    {
     "name": "stdout",
     "output_type": "stream",
     "text": [
      "2 5\n"
     ]
    },
    {
     "data": {
      "text/html": [
       "<div>\n",
       "<style scoped>\n",
       "    .dataframe tbody tr th:only-of-type {\n",
       "        vertical-align: middle;\n",
       "    }\n",
       "\n",
       "    .dataframe tbody tr th {\n",
       "        vertical-align: top;\n",
       "    }\n",
       "\n",
       "    .dataframe thead th {\n",
       "        text-align: right;\n",
       "    }\n",
       "</style>\n",
       "<table border=\"1\" class=\"dataframe\">\n",
       "  <thead>\n",
       "    <tr style=\"text-align: right;\">\n",
       "      <th></th>\n",
       "      <th>hit@5_2</th>\n",
       "      <th>hit_count@5_2</th>\n",
       "      <th>min_dist@5_2</th>\n",
       "      <th>median_dist@5_2:</th>\n",
       "      <th>compactness@5_2</th>\n",
       "      <th>coverage</th>\n",
       "      <th>mean_c_repeats</th>\n",
       "    </tr>\n",
       "  </thead>\n",
       "  <tbody>\n",
       "    <tr>\n",
       "      <th>0</th>\n",
       "      <td>0.741935</td>\n",
       "      <td>1.258065</td>\n",
       "      <td>1.395591</td>\n",
       "      <td>3.289079</td>\n",
       "      <td>2.470556</td>\n",
       "      <td>214.0</td>\n",
       "      <td>1.448598</td>\n",
       "    </tr>\n",
       "    <tr>\n",
       "      <th>1</th>\n",
       "      <td>0.419355</td>\n",
       "      <td>1.919355</td>\n",
       "      <td>2.624528</td>\n",
       "      <td>2.708826</td>\n",
       "      <td>0.090546</td>\n",
       "      <td>190.0</td>\n",
       "      <td>1.631579</td>\n",
       "    </tr>\n",
       "    <tr>\n",
       "      <th>2</th>\n",
       "      <td>0.838710</td>\n",
       "      <td>1.725806</td>\n",
       "      <td>1.051528</td>\n",
       "      <td>2.773751</td>\n",
       "      <td>1.908214</td>\n",
       "      <td>160.0</td>\n",
       "      <td>1.937500</td>\n",
       "    </tr>\n",
       "  </tbody>\n",
       "</table>\n",
       "</div>"
      ],
      "text/plain": [
       "    hit@5_2  hit_count@5_2  min_dist@5_2  median_dist@5_2:  compactness@5_2  \\\n",
       "0  0.741935       1.258065      1.395591          3.289079         2.470556   \n",
       "1  0.419355       1.919355      2.624528          2.708826         0.090546   \n",
       "2  0.838710       1.725806      1.051528          2.773751         1.908214   \n",
       "\n",
       "   coverage  mean_c_repeats  \n",
       "0     214.0        1.448598  \n",
       "1     190.0        1.631579  \n",
       "2     160.0        1.937500  "
      ]
     },
     "metadata": {},
     "output_type": "display_data"
    },
    {
     "name": "stdout",
     "output_type": "stream",
     "text": [
      "2 10\n"
     ]
    },
    {
     "data": {
      "text/html": [
       "<div>\n",
       "<style scoped>\n",
       "    .dataframe tbody tr th:only-of-type {\n",
       "        vertical-align: middle;\n",
       "    }\n",
       "\n",
       "    .dataframe tbody tr th {\n",
       "        vertical-align: top;\n",
       "    }\n",
       "\n",
       "    .dataframe thead th {\n",
       "        text-align: right;\n",
       "    }\n",
       "</style>\n",
       "<table border=\"1\" class=\"dataframe\">\n",
       "  <thead>\n",
       "    <tr style=\"text-align: right;\">\n",
       "      <th></th>\n",
       "      <th>hit@10_2</th>\n",
       "      <th>hit_count@10_2</th>\n",
       "      <th>min_dist@10_2</th>\n",
       "      <th>median_dist@10_2:</th>\n",
       "      <th>compactness@10_2</th>\n",
       "      <th>coverage</th>\n",
       "      <th>mean_c_repeats</th>\n",
       "    </tr>\n",
       "  </thead>\n",
       "  <tbody>\n",
       "    <tr>\n",
       "      <th>0</th>\n",
       "      <td>0.983871</td>\n",
       "      <td>2.564516</td>\n",
       "      <td>1.006509</td>\n",
       "      <td>3.239726</td>\n",
       "      <td>2.561497</td>\n",
       "      <td>318.0</td>\n",
       "      <td>1.949686</td>\n",
       "    </tr>\n",
       "    <tr>\n",
       "      <th>1</th>\n",
       "      <td>0.451613</td>\n",
       "      <td>3.774194</td>\n",
       "      <td>2.533378</td>\n",
       "      <td>2.722187</td>\n",
       "      <td>0.148163</td>\n",
       "      <td>278.0</td>\n",
       "      <td>2.230216</td>\n",
       "    </tr>\n",
       "    <tr>\n",
       "      <th>2</th>\n",
       "      <td>0.951613</td>\n",
       "      <td>3.209677</td>\n",
       "      <td>0.594743</td>\n",
       "      <td>2.913447</td>\n",
       "      <td>2.218704</td>\n",
       "      <td>252.0</td>\n",
       "      <td>2.460317</td>\n",
       "    </tr>\n",
       "  </tbody>\n",
       "</table>\n",
       "</div>"
      ],
      "text/plain": [
       "   hit@10_2  hit_count@10_2  min_dist@10_2  median_dist@10_2:  \\\n",
       "0  0.983871        2.564516       1.006509           3.239726   \n",
       "1  0.451613        3.774194       2.533378           2.722187   \n",
       "2  0.951613        3.209677       0.594743           2.913447   \n",
       "\n",
       "   compactness@10_2  coverage  mean_c_repeats  \n",
       "0          2.561497     318.0        1.949686  \n",
       "1          0.148163     278.0        2.230216  \n",
       "2          2.218704     252.0        2.460317  "
      ]
     },
     "metadata": {},
     "output_type": "display_data"
    },
    {
     "name": "stdout",
     "output_type": "stream",
     "text": [
      "2 20\n"
     ]
    },
    {
     "data": {
      "text/html": [
       "<div>\n",
       "<style scoped>\n",
       "    .dataframe tbody tr th:only-of-type {\n",
       "        vertical-align: middle;\n",
       "    }\n",
       "\n",
       "    .dataframe tbody tr th {\n",
       "        vertical-align: top;\n",
       "    }\n",
       "\n",
       "    .dataframe thead th {\n",
       "        text-align: right;\n",
       "    }\n",
       "</style>\n",
       "<table border=\"1\" class=\"dataframe\">\n",
       "  <thead>\n",
       "    <tr style=\"text-align: right;\">\n",
       "      <th></th>\n",
       "      <th>hit@20_2</th>\n",
       "      <th>hit_count@20_2</th>\n",
       "      <th>min_dist@20_2</th>\n",
       "      <th>median_dist@20_2:</th>\n",
       "      <th>compactness@20_2</th>\n",
       "      <th>coverage</th>\n",
       "      <th>mean_c_repeats</th>\n",
       "    </tr>\n",
       "  </thead>\n",
       "  <tbody>\n",
       "    <tr>\n",
       "      <th>0</th>\n",
       "      <td>0.967742</td>\n",
       "      <td>4.387097</td>\n",
       "      <td>0.896442</td>\n",
       "      <td>3.354866</td>\n",
       "      <td>2.756023</td>\n",
       "      <td>374.0</td>\n",
       "      <td>3.315508</td>\n",
       "    </tr>\n",
       "    <tr>\n",
       "      <th>1</th>\n",
       "      <td>0.500000</td>\n",
       "      <td>7.887097</td>\n",
       "      <td>2.354036</td>\n",
       "      <td>2.718883</td>\n",
       "      <td>0.230513</td>\n",
       "      <td>348.0</td>\n",
       "      <td>3.563218</td>\n",
       "    </tr>\n",
       "    <tr>\n",
       "      <th>2</th>\n",
       "      <td>0.983871</td>\n",
       "      <td>6.048387</td>\n",
       "      <td>0.254887</td>\n",
       "      <td>2.932963</td>\n",
       "      <td>2.223539</td>\n",
       "      <td>349.0</td>\n",
       "      <td>3.553009</td>\n",
       "    </tr>\n",
       "  </tbody>\n",
       "</table>\n",
       "</div>"
      ],
      "text/plain": [
       "   hit@20_2  hit_count@20_2  min_dist@20_2  median_dist@20_2:  \\\n",
       "0  0.967742        4.387097       0.896442           3.354866   \n",
       "1  0.500000        7.887097       2.354036           2.718883   \n",
       "2  0.983871        6.048387       0.254887           2.932963   \n",
       "\n",
       "   compactness@20_2  coverage  mean_c_repeats  \n",
       "0          2.756023     374.0        3.315508  \n",
       "1          0.230513     348.0        3.563218  \n",
       "2          2.223539     349.0        3.553009  "
      ]
     },
     "metadata": {},
     "output_type": "display_data"
    },
    {
     "name": "stdout",
     "output_type": "stream",
     "text": [
      "2 30\n"
     ]
    },
    {
     "data": {
      "text/html": [
       "<div>\n",
       "<style scoped>\n",
       "    .dataframe tbody tr th:only-of-type {\n",
       "        vertical-align: middle;\n",
       "    }\n",
       "\n",
       "    .dataframe tbody tr th {\n",
       "        vertical-align: top;\n",
       "    }\n",
       "\n",
       "    .dataframe thead th {\n",
       "        text-align: right;\n",
       "    }\n",
       "</style>\n",
       "<table border=\"1\" class=\"dataframe\">\n",
       "  <thead>\n",
       "    <tr style=\"text-align: right;\">\n",
       "      <th></th>\n",
       "      <th>hit@30_2</th>\n",
       "      <th>hit_count@30_2</th>\n",
       "      <th>min_dist@30_2</th>\n",
       "      <th>median_dist@30_2:</th>\n",
       "      <th>compactness@30_2</th>\n",
       "      <th>coverage</th>\n",
       "      <th>mean_c_repeats</th>\n",
       "    </tr>\n",
       "  </thead>\n",
       "  <tbody>\n",
       "    <tr>\n",
       "      <th>0</th>\n",
       "      <td>1.000000</td>\n",
       "      <td>7.193548</td>\n",
       "      <td>0.582485</td>\n",
       "      <td>3.260487</td>\n",
       "      <td>2.697321</td>\n",
       "      <td>398.0</td>\n",
       "      <td>4.673367</td>\n",
       "    </tr>\n",
       "    <tr>\n",
       "      <th>1</th>\n",
       "      <td>0.532258</td>\n",
       "      <td>11.854839</td>\n",
       "      <td>2.148231</td>\n",
       "      <td>2.702412</td>\n",
       "      <td>0.329313</td>\n",
       "      <td>385.0</td>\n",
       "      <td>4.831169</td>\n",
       "    </tr>\n",
       "    <tr>\n",
       "      <th>2</th>\n",
       "      <td>0.983871</td>\n",
       "      <td>9.241935</td>\n",
       "      <td>0.160619</td>\n",
       "      <td>2.924541</td>\n",
       "      <td>2.233738</td>\n",
       "      <td>377.0</td>\n",
       "      <td>4.933687</td>\n",
       "    </tr>\n",
       "  </tbody>\n",
       "</table>\n",
       "</div>"
      ],
      "text/plain": [
       "   hit@30_2  hit_count@30_2  min_dist@30_2  median_dist@30_2:  \\\n",
       "0  1.000000        7.193548       0.582485           3.260487   \n",
       "1  0.532258       11.854839       2.148231           2.702412   \n",
       "2  0.983871        9.241935       0.160619           2.924541   \n",
       "\n",
       "   compactness@30_2  coverage  mean_c_repeats  \n",
       "0          2.697321     398.0        4.673367  \n",
       "1          0.329313     385.0        4.831169  \n",
       "2          2.233738     377.0        4.933687  "
      ]
     },
     "metadata": {},
     "output_type": "display_data"
    }
   ],
   "source": [
    "for dt in [0.25, 0.5, 1, 2]:\n",
    "    for k in [1, 5, 10, 20, 30]:\n",
    "        print(dt, k)\n",
    "        bc_r = locator_r.batch_locate(X_val, k)\n",
    "        bc_bm = locator_bm.batch_locate(X_val, k)\n",
    "        bc_g = locator_g.batch_locate(X_val, k)\n",
    "        results = []\n",
    "        results.append(pd.DataFrame(collect_test_metrics(dt, k, X_val, bc_r)).T)\n",
    "        results.append(pd.DataFrame(collect_test_metrics(dt, k, X_val, bc_bm)).T)\n",
    "        results.append(pd.DataFrame(collect_test_metrics(dt, k, X_val, bc_g)).T)\n",
    "        results = pd.concat(results).reset_index(drop=True)\n",
    "        display(results)"
   ]
  },
  {
   "cell_type": "markdown",
   "metadata": {},
   "source": [
    "**Bopt**"
   ]
  },
  {
   "cell_type": "code",
   "execution_count": 42,
   "metadata": {
    "scrolled": true
   },
   "outputs": [
    {
     "name": "stdout",
     "output_type": "stream",
     "text": [
      "DT = 0.5\n",
      "K = 5\n",
      "{'target': 0.8064516129032258, 'params': {'d_alpha': 1.7619625557505525, 'd_t': 0.332063574366837, 'g_mean': 0.1309968448109169, 'g_std': 8.285416229139239, 'g_t': 0.34473665268329345}}\n",
      "K = 30\n",
      "{'target': 3.096774193548387, 'params': {'d_alpha': 2.263812219300573, 'd_t': 0.0, 'g_mean': 1.0, 'g_std': 5.553768064012728, 'g_t': 0.0}}\n",
      "K = 50\n",
      "{'target': 4.32258064516129, 'params': {'d_alpha': 3.7017287879059517, 'd_t': 0.0, 'g_mean': 0.0, 'g_std': 6.508822047333712, 'g_t': 0.8527412921380608}}\n",
      "DT = 1\n",
      "K = 5\n",
      "{'target': 1.3870967741935485, 'params': {'d_alpha': 1.7863792775070197, 'd_t': 0.0, 'g_mean': 0.5053368041991528, 'g_std': 1.4132516677755633, 'g_t': 0.0}}\n",
      "K = 30\n",
      "{'target': 7.645161290322581, 'params': {'d_alpha': 0.6001014008251204, 'd_t': 0.5504265265329386, 'g_mean': 0.1662535096462875, 'g_std': 6.424477638720284, 'g_t': 0.6021081830896102}}\n",
      "K = 50\n",
      "{'target': 11.129032258064516, 'params': {'d_alpha': 0.40302695880081496, 'd_t': 0.6640206048635708, 'g_mean': 0.048958182548818806, 'g_std': 6.41147745755364, 'g_t': 0.8206713390673575}}\n",
      "DT = 2\n",
      "K = 5\n",
      "{'target': 3.0806451612903225, 'params': {'d_alpha': 0.19366957870297075, 'd_t': 0.678835532939891, 'g_mean': 0.21162811600005904, 'g_std': 3.389919934350036, 'g_t': 0.4915731592803383}}\n",
      "K = 30\n",
      "{'target': 16.419354838709676, 'params': {'d_alpha': 0.1376925538677598, 'd_t': 0.7357261474878019, 'g_mean': 0.13209013197698583, 'g_std': 3.395356870268616, 'g_t': 0.36760924053215527}}\n",
      "K = 50\n",
      "{'target': 25.274193548387096, 'params': {'d_alpha': 0.8350078978392084, 'd_t': 0.16185153724144796, 'g_mean': 0.3570830602935301, 'g_std': 4.515601082583229, 'g_t': 0.5398587644515778}}\n"
     ]
    }
   ],
   "source": [
    "for dt in [0.5, 1, 2]:\n",
    "    print(f\"DT = {dt}\")\n",
    "    for k in [5, 30, 50]:\n",
    "        print(f'K = {k}')\n",
    "        optimizer = BayesianOptimization(\n",
    "            f=get_F(X_train, X_val, dt, k),\n",
    "            pbounds=RankingGeneratorGDLinkage(X_train).get_params(),\n",
    "            verbose=2,\n",
    "            random_state=1,\n",
    "        )\n",
    "        dt_str = f'{dt}'.replace('.', '')\n",
    "        log_file = f'data/bayes_opt_logs/b_opt_log_dt_{dt_str}_k_{k}.json'\n",
    "        logger = JSONLogger(path=log_file)\n",
    "        optimizer.subscribe(Events.OPTIMIZATION_STEP, logger)\n",
    "        \n",
    "        optimizer.maximize(\n",
    "            init_points=50,\n",
    "            n_iter=100,\n",
    "        )\n",
    "        print(optimizer.max)"
   ]
  },
  {
   "cell_type": "markdown",
   "metadata": {},
   "source": [
    "# Evaluate"
   ]
  },
  {
   "cell_type": "code",
   "execution_count": 11,
   "metadata": {},
   "outputs": [
    {
     "data": {
      "text/html": [
       "<div>\n",
       "<style scoped>\n",
       "    .dataframe tbody tr th:only-of-type {\n",
       "        vertical-align: middle;\n",
       "    }\n",
       "\n",
       "    .dataframe tbody tr th {\n",
       "        vertical-align: top;\n",
       "    }\n",
       "\n",
       "    .dataframe thead th {\n",
       "        text-align: right;\n",
       "    }\n",
       "</style>\n",
       "<table border=\"1\" class=\"dataframe\">\n",
       "  <thead>\n",
       "    <tr style=\"text-align: right;\">\n",
       "      <th></th>\n",
       "      <th>dt</th>\n",
       "      <th>k</th>\n",
       "      <th>target</th>\n",
       "      <th>d_alpha</th>\n",
       "      <th>d_t</th>\n",
       "      <th>g_mean</th>\n",
       "      <th>g_std</th>\n",
       "      <th>g_t</th>\n",
       "    </tr>\n",
       "  </thead>\n",
       "  <tbody>\n",
       "    <tr>\n",
       "      <th>0</th>\n",
       "      <td>0.5</td>\n",
       "      <td>5</td>\n",
       "      <td>0.806452</td>\n",
       "      <td>1.761963</td>\n",
       "      <td>0.332064</td>\n",
       "      <td>0.130997</td>\n",
       "      <td>8.285416</td>\n",
       "      <td>0.344737</td>\n",
       "    </tr>\n",
       "    <tr>\n",
       "      <th>1</th>\n",
       "      <td>0.5</td>\n",
       "      <td>30</td>\n",
       "      <td>3.096774</td>\n",
       "      <td>2.263812</td>\n",
       "      <td>0.000000</td>\n",
       "      <td>1.000000</td>\n",
       "      <td>5.553768</td>\n",
       "      <td>0.000000</td>\n",
       "    </tr>\n",
       "    <tr>\n",
       "      <th>2</th>\n",
       "      <td>0.5</td>\n",
       "      <td>50</td>\n",
       "      <td>4.322581</td>\n",
       "      <td>3.701729</td>\n",
       "      <td>0.000000</td>\n",
       "      <td>0.000000</td>\n",
       "      <td>6.508822</td>\n",
       "      <td>0.852741</td>\n",
       "    </tr>\n",
       "    <tr>\n",
       "      <th>3</th>\n",
       "      <td>1.0</td>\n",
       "      <td>5</td>\n",
       "      <td>1.387097</td>\n",
       "      <td>1.786379</td>\n",
       "      <td>0.000000</td>\n",
       "      <td>0.505337</td>\n",
       "      <td>1.413252</td>\n",
       "      <td>0.000000</td>\n",
       "    </tr>\n",
       "    <tr>\n",
       "      <th>4</th>\n",
       "      <td>1.0</td>\n",
       "      <td>30</td>\n",
       "      <td>7.645161</td>\n",
       "      <td>0.600101</td>\n",
       "      <td>0.550427</td>\n",
       "      <td>0.166254</td>\n",
       "      <td>6.424478</td>\n",
       "      <td>0.602108</td>\n",
       "    </tr>\n",
       "    <tr>\n",
       "      <th>5</th>\n",
       "      <td>1.0</td>\n",
       "      <td>50</td>\n",
       "      <td>11.129032</td>\n",
       "      <td>0.403027</td>\n",
       "      <td>0.664021</td>\n",
       "      <td>0.048958</td>\n",
       "      <td>6.411477</td>\n",
       "      <td>0.820671</td>\n",
       "    </tr>\n",
       "    <tr>\n",
       "      <th>6</th>\n",
       "      <td>2.0</td>\n",
       "      <td>5</td>\n",
       "      <td>3.080645</td>\n",
       "      <td>0.193670</td>\n",
       "      <td>0.678836</td>\n",
       "      <td>0.211628</td>\n",
       "      <td>3.389920</td>\n",
       "      <td>0.491573</td>\n",
       "    </tr>\n",
       "    <tr>\n",
       "      <th>7</th>\n",
       "      <td>2.0</td>\n",
       "      <td>30</td>\n",
       "      <td>16.419355</td>\n",
       "      <td>0.137693</td>\n",
       "      <td>0.735726</td>\n",
       "      <td>0.132090</td>\n",
       "      <td>3.395357</td>\n",
       "      <td>0.367609</td>\n",
       "    </tr>\n",
       "    <tr>\n",
       "      <th>8</th>\n",
       "      <td>2.0</td>\n",
       "      <td>50</td>\n",
       "      <td>25.274194</td>\n",
       "      <td>0.835008</td>\n",
       "      <td>0.161852</td>\n",
       "      <td>0.357083</td>\n",
       "      <td>4.515601</td>\n",
       "      <td>0.539859</td>\n",
       "    </tr>\n",
       "  </tbody>\n",
       "</table>\n",
       "</div>"
      ],
      "text/plain": [
       "    dt   k     target   d_alpha       d_t    g_mean     g_std       g_t\n",
       "0  0.5   5   0.806452  1.761963  0.332064  0.130997  8.285416  0.344737\n",
       "1  0.5  30   3.096774  2.263812  0.000000  1.000000  5.553768  0.000000\n",
       "2  0.5  50   4.322581  3.701729  0.000000  0.000000  6.508822  0.852741\n",
       "3  1.0   5   1.387097  1.786379  0.000000  0.505337  1.413252  0.000000\n",
       "4  1.0  30   7.645161  0.600101  0.550427  0.166254  6.424478  0.602108\n",
       "5  1.0  50  11.129032  0.403027  0.664021  0.048958  6.411477  0.820671\n",
       "6  2.0   5   3.080645  0.193670  0.678836  0.211628  3.389920  0.491573\n",
       "7  2.0  30  16.419355  0.137693  0.735726  0.132090  3.395357  0.367609\n",
       "8  2.0  50  25.274194  0.835008  0.161852  0.357083  4.515601  0.539859"
      ]
     },
     "execution_count": 11,
     "metadata": {},
     "output_type": "execute_result"
    }
   ],
   "source": [
    "import os\n",
    "import json\n",
    "\n",
    "\n",
    "results = []\n",
    "for dt in [0.5, 1, 2]:\n",
    "    for k in [5, 30, 50]:\n",
    "        dt_str = f'{dt}'.replace('.', '')\n",
    "        log_file = f'data/bayes_opt_logs/probes_dt_{dt_str}_k_{k}_v2.json'\n",
    "\n",
    "        probes = []\n",
    "        with open(log_file, 'r') as f:\n",
    "            for line in f:\n",
    "                probe = json.loads(line)\n",
    "                probes.append(probe)\n",
    "        best_probe = sorted(probes, key=lambda x: x['target'], reverse=True)[0]\n",
    "\n",
    "        result = pd.DataFrame({'dt': [dt], 'k': [k], 'target': [best_probe['target']],\n",
    "                               **{k: [v] for k, v in best_probe['params'].items()}})\n",
    "    \n",
    "        results.append(result)\n",
    "\n",
    "results = pd.concat(results).reset_index(drop=True)\n",
    "results"
   ]
  },
  {
   "cell_type": "code",
   "execution_count": null,
   "metadata": {},
   "outputs": [],
   "source": []
  },
  {
   "cell_type": "code",
   "execution_count": null,
   "metadata": {},
   "outputs": [],
   "source": []
  },
  {
   "cell_type": "code",
   "execution_count": 300,
   "metadata": {},
   "outputs": [],
   "source": [
    "bc_g = locator_g.batch_locate(X_val, 10)"
   ]
  },
  {
   "cell_type": "code",
   "execution_count": 301,
   "metadata": {
    "scrolled": false
   },
   "outputs": [
    {
     "data": {
      "text/html": [
       "<div style=\"width:100%;\"><div style=\"position:relative;width:100%;height:0;padding-bottom:60%;\"><span style=\"color:#565656\">Make this Notebook Trusted to load map: File -> Trust Notebook</span><iframe src=\"about:blank\" style=\"position:absolute;width:100%;height:100%;left:0;top:0;border:none !important;\" data-html=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 onload=\"this.contentDocument.open();this.contentDocument.write(atob(this.getAttribute('data-html')));this.contentDocument.close();\" allowfullscreen webkitallowfullscreen mozallowfullscreen></iframe></div></div>"
      ],
      "text/plain": [
       "<folium.folium.Map at 0x1237df5f8>"
      ]
     },
     "execution_count": 301,
     "metadata": {},
     "output_type": "execute_result"
    }
   ],
   "source": [
    "i = 22\n",
    "plot_results(bc_g[i], X_val.iloc[i:i+1].reset_index(), 1)"
   ]
  },
  {
   "cell_type": "code",
   "execution_count": 227,
   "metadata": {
    "scrolled": true
   },
   "outputs": [],
   "source": [
    "locator = (\n",
    "    Geolocator(X_train)\n",
    "    .set_candidates_generator('grid', grid_size=20)\n",
    "    .set_ranking_generator('gdlink', \n",
    "        d_alpha=1,\n",
    "        d_t=0.4,\n",
    "        g_mean=0.5,\n",
    "        g_std=5,\n",
    "        g_t=0.5\n",
    "    )\n",
    ")\n",
    "bc = locator.batch_locate(X_val, k)"
   ]
  },
  {
   "cell_type": "code",
   "execution_count": 281,
   "metadata": {},
   "outputs": [
    {
     "data": {
      "text/plain": [
       "hit@5_0.5               0.064516\n",
       "hit_count@5_0.5         0.064516\n",
       "min_dist@5_0.5          1.538298\n",
       "median_dist@5_0.5:      3.328163\n",
       "compactness@5_0.5       2.367309\n",
       "coverage              211.000000\n",
       "mean_c_repeats          1.469194\n",
       "dtype: float64"
      ]
     },
     "metadata": {},
     "output_type": "display_data"
    },
    {
     "data": {
      "text/plain": [
       "hit@5_0.5              0.112903\n",
       "hit_count@5_0.5        0.532258\n",
       "min_dist@5_0.5         2.392057\n",
       "median_dist@5_0.5:     2.687745\n",
       "compactness@5_0.5      0.265607\n",
       "coverage              86.000000\n",
       "mean_c_repeats         3.604651\n",
       "dtype: float64"
      ]
     },
     "metadata": {},
     "output_type": "display_data"
    },
    {
     "data": {
      "text/plain": [
       "hit@5_0.5              0.306452\n",
       "hit_count@5_0.5        0.322581\n",
       "min_dist@5_0.5         0.823155\n",
       "median_dist@5_0.5:     2.921352\n",
       "compactness@5_0.5      2.151586\n",
       "coverage              73.000000\n",
       "mean_c_repeats         4.246575\n",
       "dtype: float64"
      ]
     },
     "metadata": {},
     "output_type": "display_data"
    },
    {
     "data": {
      "text/plain": [
       "hit@5_0.5              0.161290\n",
       "hit_count@5_0.5        0.225806\n",
       "min_dist@5_0.5         1.314612\n",
       "median_dist@5_0.5:     2.347907\n",
       "compactness@5_0.5      2.573274\n",
       "coverage              10.000000\n",
       "mean_c_repeats        31.000000\n",
       "dtype: float64"
      ]
     },
     "metadata": {},
     "output_type": "display_data"
    }
   ],
   "source": [
    "display(collect_test_metrics(dt, k, X_val, bc_r))\n",
    "display(collect_test_metrics(dt, k, X_val, bc_bm))\n",
    "display(collect_test_metrics(dt, k, X_val, bc_g))\n",
    "display(collect_test_metrics(dt, k, X_val, bc))"
   ]
  },
  {
   "cell_type": "code",
   "execution_count": 239,
   "metadata": {},
   "outputs": [
    {
     "data": {
      "text/plain": [
       "hit@5_0.5              0.145161\n",
       "hit_count@5_0.5        0.306452\n",
       "min_dist@5_0.5         1.907336\n",
       "median_dist@5_0.5:     2.250519\n",
       "compactness@5_0.5      0.286910\n",
       "coverage               5.000000\n",
       "mean_c_repeats        62.000000\n",
       "dtype: float64"
      ]
     },
     "metadata": {},
     "output_type": "display_data"
    },
    {
     "data": {
      "text/plain": [
       "hit@5_0.5              0.145161\n",
       "hit_count@5_0.5        0.306452\n",
       "min_dist@5_0.5         1.907336\n",
       "median_dist@5_0.5:     2.250519\n",
       "compactness@5_0.5      0.286910\n",
       "coverage               5.000000\n",
       "mean_c_repeats        62.000000\n",
       "dtype: float64"
      ]
     },
     "metadata": {},
     "output_type": "display_data"
    },
    {
     "data": {
      "text/plain": [
       "hit@5_0.5              0.145161\n",
       "hit_count@5_0.5        0.306452\n",
       "min_dist@5_0.5         1.907336\n",
       "median_dist@5_0.5:     2.250519\n",
       "compactness@5_0.5      0.286910\n",
       "coverage               5.000000\n",
       "mean_c_repeats        62.000000\n",
       "dtype: float64"
      ]
     },
     "metadata": {},
     "output_type": "display_data"
    },
    {
     "data": {
      "text/plain": [
       "hit@5_0.5              0.161290\n",
       "hit_count@5_0.5        0.338710\n",
       "min_dist@5_0.5         1.900651\n",
       "median_dist@5_0.5:     2.245657\n",
       "compactness@5_0.5      0.286898\n",
       "coverage               8.000000\n",
       "mean_c_repeats        38.750000\n",
       "dtype: float64"
      ]
     },
     "metadata": {},
     "output_type": "display_data"
    },
    {
     "data": {
      "text/plain": [
       "hit@5_0.5              0.258065\n",
       "hit_count@5_0.5        0.564516\n",
       "min_dist@5_0.5         1.944041\n",
       "median_dist@5_0.5:     2.294204\n",
       "compactness@5_0.5      0.305548\n",
       "coverage               5.000000\n",
       "mean_c_repeats        62.000000\n",
       "dtype: float64"
      ]
     },
     "metadata": {},
     "output_type": "display_data"
    },
    {
     "data": {
      "text/plain": [
       "hit@5_0.5              0.322581\n",
       "hit_count@5_0.5        0.629032\n",
       "min_dist@5_0.5         1.814790\n",
       "median_dist@5_0.5:     2.289688\n",
       "compactness@5_0.5      0.483363\n",
       "coverage               7.000000\n",
       "mean_c_repeats        44.285714\n",
       "dtype: float64"
      ]
     },
     "metadata": {},
     "output_type": "display_data"
    },
    {
     "data": {
      "text/plain": [
       "hit@5_0.5              0.258065\n",
       "hit_count@5_0.5        0.564516\n",
       "min_dist@5_0.5         1.944041\n",
       "median_dist@5_0.5:     2.294204\n",
       "compactness@5_0.5      0.305548\n",
       "coverage               5.000000\n",
       "mean_c_repeats        62.000000\n",
       "dtype: float64"
      ]
     },
     "metadata": {},
     "output_type": "display_data"
    },
    {
     "data": {
      "text/plain": [
       "hit@5_0.5              0.306452\n",
       "hit_count@5_0.5        0.677419\n",
       "min_dist@5_0.5         1.770413\n",
       "median_dist@5_0.5:     2.306948\n",
       "compactness@5_0.5      0.565768\n",
       "coverage              12.000000\n",
       "mean_c_repeats        25.833333\n",
       "dtype: float64"
      ]
     },
     "metadata": {},
     "output_type": "display_data"
    },
    {
     "data": {
      "text/plain": [
       "hit@5_0.5              0.145161\n",
       "hit_count@5_0.5        0.290323\n",
       "min_dist@5_0.5         1.888390\n",
       "median_dist@5_0.5:     2.236658\n",
       "compactness@5_0.5      0.320769\n",
       "coverage               5.000000\n",
       "mean_c_repeats        62.000000\n",
       "dtype: float64"
      ]
     },
     "metadata": {},
     "output_type": "display_data"
    },
    {
     "data": {
      "text/plain": [
       "hit@5_0.5              0.161290\n",
       "hit_count@5_0.5        0.306452\n",
       "min_dist@5_0.5         1.873340\n",
       "median_dist@5_0.5:     2.240443\n",
       "compactness@5_0.5      0.340329\n",
       "coverage               6.000000\n",
       "mean_c_repeats        51.666667\n",
       "dtype: float64"
      ]
     },
     "metadata": {},
     "output_type": "display_data"
    },
    {
     "data": {
      "text/plain": [
       "hit@5_0.5              0.145161\n",
       "hit_count@5_0.5        0.290323\n",
       "min_dist@5_0.5         1.888390\n",
       "median_dist@5_0.5:     2.236658\n",
       "compactness@5_0.5      0.320769\n",
       "coverage               5.000000\n",
       "mean_c_repeats        62.000000\n",
       "dtype: float64"
      ]
     },
     "metadata": {},
     "output_type": "display_data"
    },
    {
     "data": {
      "text/plain": [
       "hit@5_0.5              0.161290\n",
       "hit_count@5_0.5        0.338710\n",
       "min_dist@5_0.5         1.796673\n",
       "median_dist@5_0.5:     2.258571\n",
       "compactness@5_0.5      0.430641\n",
       "coverage              11.000000\n",
       "mean_c_repeats        28.181818\n",
       "dtype: float64"
      ]
     },
     "metadata": {},
     "output_type": "display_data"
    },
    {
     "data": {
      "text/plain": [
       "hit@5_0.5              0.419355\n",
       "hit_count@5_0.5        0.677419\n",
       "min_dist@5_0.5         1.661434\n",
       "median_dist@5_0.5:     2.303538\n",
       "compactness@5_0.5      0.774402\n",
       "coverage               6.000000\n",
       "mean_c_repeats        51.666667\n",
       "dtype: float64"
      ]
     },
     "metadata": {},
     "output_type": "display_data"
    },
    {
     "data": {
      "text/plain": [
       "hit@5_0.5              0.403226\n",
       "hit_count@5_0.5        0.677419\n",
       "min_dist@5_0.5         1.688413\n",
       "median_dist@5_0.5:     2.297751\n",
       "compactness@5_0.5      0.887976\n",
       "coverage               7.000000\n",
       "mean_c_repeats        44.285714\n",
       "dtype: float64"
      ]
     },
     "metadata": {},
     "output_type": "display_data"
    },
    {
     "data": {
      "text/plain": [
       "hit@5_0.5              0.419355\n",
       "hit_count@5_0.5        0.693548\n",
       "min_dist@5_0.5         1.658928\n",
       "median_dist@5_0.5:     2.299919\n",
       "compactness@5_0.5      0.790866\n",
       "coverage               6.000000\n",
       "mean_c_repeats        51.666667\n",
       "dtype: float64"
      ]
     },
     "metadata": {},
     "output_type": "display_data"
    },
    {
     "data": {
      "text/plain": [
       "hit@5_0.5              0.338710\n",
       "hit_count@5_0.5        0.709677\n",
       "min_dist@5_0.5         1.829607\n",
       "median_dist@5_0.5:     2.271097\n",
       "compactness@5_0.5      0.777385\n",
       "coverage              12.000000\n",
       "mean_c_repeats        25.833333\n",
       "dtype: float64"
      ]
     },
     "metadata": {},
     "output_type": "display_data"
    },
    {
     "data": {
      "text/plain": [
       "hit@5_0.5              0.145161\n",
       "hit_count@5_0.5        0.306452\n",
       "min_dist@5_0.5         1.907336\n",
       "median_dist@5_0.5:     2.250519\n",
       "compactness@5_0.5      0.286910\n",
       "coverage               5.000000\n",
       "mean_c_repeats        62.000000\n",
       "dtype: float64"
      ]
     },
     "metadata": {},
     "output_type": "display_data"
    },
    {
     "data": {
      "text/plain": [
       "hit@5_0.5              0.145161\n",
       "hit_count@5_0.5        0.306452\n",
       "min_dist@5_0.5         1.907336\n",
       "median_dist@5_0.5:     2.250519\n",
       "compactness@5_0.5      0.286910\n",
       "coverage               5.000000\n",
       "mean_c_repeats        62.000000\n",
       "dtype: float64"
      ]
     },
     "metadata": {},
     "output_type": "display_data"
    },
    {
     "data": {
      "text/plain": [
       "hit@5_0.5              0.145161\n",
       "hit_count@5_0.5        0.306452\n",
       "min_dist@5_0.5         1.907336\n",
       "median_dist@5_0.5:     2.250519\n",
       "compactness@5_0.5      0.286910\n",
       "coverage               5.000000\n",
       "mean_c_repeats        62.000000\n",
       "dtype: float64"
      ]
     },
     "metadata": {},
     "output_type": "display_data"
    },
    {
     "data": {
      "text/plain": [
       "hit@5_0.5              0.161290\n",
       "hit_count@5_0.5        0.225806\n",
       "min_dist@5_0.5         1.314612\n",
       "median_dist@5_0.5:     2.347907\n",
       "compactness@5_0.5      2.573274\n",
       "coverage              10.000000\n",
       "mean_c_repeats        31.000000\n",
       "dtype: float64"
      ]
     },
     "metadata": {},
     "output_type": "display_data"
    },
    {
     "data": {
      "text/plain": [
       "hit@5_0.5              0.258065\n",
       "hit_count@5_0.5        0.564516\n",
       "min_dist@5_0.5         1.944041\n",
       "median_dist@5_0.5:     2.294204\n",
       "compactness@5_0.5      0.305548\n",
       "coverage               5.000000\n",
       "mean_c_repeats        62.000000\n",
       "dtype: float64"
      ]
     },
     "metadata": {},
     "output_type": "display_data"
    },
    {
     "data": {
      "text/plain": [
       "hit@5_0.5              0.322581\n",
       "hit_count@5_0.5        0.629032\n",
       "min_dist@5_0.5         1.784496\n",
       "median_dist@5_0.5:     2.286491\n",
       "compactness@5_0.5      0.506725\n",
       "coverage               7.000000\n",
       "mean_c_repeats        44.285714\n",
       "dtype: float64"
      ]
     },
     "metadata": {},
     "output_type": "display_data"
    },
    {
     "data": {
      "text/plain": [
       "hit@5_0.5              0.258065\n",
       "hit_count@5_0.5        0.564516\n",
       "min_dist@5_0.5         1.944041\n",
       "median_dist@5_0.5:     2.294204\n",
       "compactness@5_0.5      0.305548\n",
       "coverage               5.000000\n",
       "mean_c_repeats        62.000000\n",
       "dtype: float64"
      ]
     },
     "metadata": {},
     "output_type": "display_data"
    },
    {
     "data": {
      "text/plain": [
       "hit@5_0.5              0.161290\n",
       "hit_count@5_0.5        0.225806\n",
       "min_dist@5_0.5         1.314612\n",
       "median_dist@5_0.5:     2.347907\n",
       "compactness@5_0.5      2.573274\n",
       "coverage              10.000000\n",
       "mean_c_repeats        31.000000\n",
       "dtype: float64"
      ]
     },
     "metadata": {},
     "output_type": "display_data"
    },
    {
     "data": {
      "text/plain": [
       "hit@5_0.5              0.145161\n",
       "hit_count@5_0.5        0.290323\n",
       "min_dist@5_0.5         1.888390\n",
       "median_dist@5_0.5:     2.236658\n",
       "compactness@5_0.5      0.320769\n",
       "coverage               5.000000\n",
       "mean_c_repeats        62.000000\n",
       "dtype: float64"
      ]
     },
     "metadata": {},
     "output_type": "display_data"
    },
    {
     "data": {
      "text/plain": [
       "hit@5_0.5              0.161290\n",
       "hit_count@5_0.5        0.306452\n",
       "min_dist@5_0.5         1.855956\n",
       "median_dist@5_0.5:     2.240979\n",
       "compactness@5_0.5      0.346849\n",
       "coverage               6.000000\n",
       "mean_c_repeats        51.666667\n",
       "dtype: float64"
      ]
     },
     "metadata": {},
     "output_type": "display_data"
    },
    {
     "data": {
      "text/plain": [
       "hit@5_0.5              0.145161\n",
       "hit_count@5_0.5        0.290323\n",
       "min_dist@5_0.5         1.888390\n",
       "median_dist@5_0.5:     2.236658\n",
       "compactness@5_0.5      0.320769\n",
       "coverage               5.000000\n",
       "mean_c_repeats        62.000000\n",
       "dtype: float64"
      ]
     },
     "metadata": {},
     "output_type": "display_data"
    },
    {
     "data": {
      "text/plain": [
       "hit@5_0.5              0.161290\n",
       "hit_count@5_0.5        0.225806\n",
       "min_dist@5_0.5         1.314612\n",
       "median_dist@5_0.5:     2.347907\n",
       "compactness@5_0.5      2.573274\n",
       "coverage              10.000000\n",
       "mean_c_repeats        31.000000\n",
       "dtype: float64"
      ]
     },
     "metadata": {},
     "output_type": "display_data"
    },
    {
     "data": {
      "text/plain": [
       "hit@5_0.5              0.419355\n",
       "hit_count@5_0.5        0.677419\n",
       "min_dist@5_0.5         1.661434\n",
       "median_dist@5_0.5:     2.303538\n",
       "compactness@5_0.5      0.774402\n",
       "coverage               6.000000\n",
       "mean_c_repeats        51.666667\n",
       "dtype: float64"
      ]
     },
     "metadata": {},
     "output_type": "display_data"
    },
    {
     "data": {
      "text/plain": [
       "hit@5_0.5              0.387097\n",
       "hit_count@5_0.5        0.645161\n",
       "min_dist@5_0.5         1.716923\n",
       "median_dist@5_0.5:     2.300205\n",
       "compactness@5_0.5      0.886298\n",
       "coverage               7.000000\n",
       "mean_c_repeats        44.285714\n",
       "dtype: float64"
      ]
     },
     "metadata": {},
     "output_type": "display_data"
    },
    {
     "data": {
      "text/plain": [
       "hit@5_0.5              0.419355\n",
       "hit_count@5_0.5        0.693548\n",
       "min_dist@5_0.5         1.658928\n",
       "median_dist@5_0.5:     2.299919\n",
       "compactness@5_0.5      0.790866\n",
       "coverage               6.000000\n",
       "mean_c_repeats        51.666667\n",
       "dtype: float64"
      ]
     },
     "metadata": {},
     "output_type": "display_data"
    },
    {
     "data": {
      "text/plain": [
       "hit@5_0.5              0.161290\n",
       "hit_count@5_0.5        0.225806\n",
       "min_dist@5_0.5         1.314612\n",
       "median_dist@5_0.5:     2.347907\n",
       "compactness@5_0.5      2.573274\n",
       "coverage              10.000000\n",
       "mean_c_repeats        31.000000\n",
       "dtype: float64"
      ]
     },
     "metadata": {},
     "output_type": "display_data"
    }
   ],
   "source": [
    "from itertools import product\n",
    "\n",
    "params = RankingGeneratorGDLinkage(X_train).get_params()\n",
    "for p in product(*[np.linspace(*v, 2) for k, v in params.items()]):\n",
    "    locator = (\n",
    "        Geolocator(X_train)\n",
    "        .set_candidates_generator('grid', grid_size=20)\n",
    "        .set_ranking_generator('gdlink', \n",
    "            **{\n",
    "                k: p[index]\n",
    "                for index, (k, _) in enumerate(params.items())\n",
    "            }\n",
    "        )\n",
    "    )\n",
    "    bc = locator.batch_locate(X_val, k)\n",
    "    display(collect_test_metrics(dt, k, X_val, bc))"
   ]
  },
  {
   "cell_type": "code",
   "execution_count": null,
   "metadata": {},
   "outputs": [],
   "source": []
  },
  {
   "cell_type": "code",
   "execution_count": null,
   "metadata": {},
   "outputs": [],
   "source": [
    "X_val"
   ]
  },
  {
   "cell_type": "code",
   "execution_count": null,
   "metadata": {},
   "outputs": [],
   "source": []
  },
  {
   "cell_type": "code",
   "execution_count": null,
   "metadata": {},
   "outputs": [],
   "source": []
  },
  {
   "cell_type": "code",
   "execution_count": null,
   "metadata": {},
   "outputs": [],
   "source": []
  },
  {
   "cell_type": "code",
   "execution_count": 40,
   "metadata": {},
   "outputs": [],
   "source": [
    "# import json\n",
    "\n",
    "# def generate_example(row, k):\n",
    "#     genotype = row[AVAILABLE_LOCI].sample(k).astype('float')\n",
    "#     print(genotype)\n",
    "#     return {\n",
    "#         'meta_data': dict(row[['population', 'id', 'region', 'lat', 'long']]),\n",
    "#         'genotype': dict(genotype)\n",
    "#     }\n",
    "    \n",
    "    \n",
    "# with open(\"data/apps/geolocation/sample3.json\", \"w\") as write_file:\n",
    "#     json.dump(generate_example(examples.iloc[2], 30), write_file)"
   ]
  },
  {
   "cell_type": "markdown",
   "metadata": {},
   "source": [
    "# HDBSCAN"
   ]
  },
  {
   "cell_type": "code",
   "execution_count": 152,
   "metadata": {},
   "outputs": [],
   "source": [
    "import numpy as np\n",
    "import matplotlib.pyplot as plt\n",
    "import seaborn as sns\n",
    "import sklearn.datasets as data\n",
    "%matplotlib inline\n",
    "sns.set_context('poster')\n",
    "sns.set_style('white')\n",
    "sns.set_color_codes()\n",
    "plot_kwds = {'alpha' : 0.5, 's' : 80, 'linewidths':0}"
   ]
  },
  {
   "cell_type": "code",
   "execution_count": 195,
   "metadata": {},
   "outputs": [],
   "source": [
    "clusterer = hdbscan.HDBSCAN(min_cluster_size=10, prediction_data=True).fit(X_train[AVAILABLE_LOCI].sample(400))"
   ]
  },
  {
   "cell_type": "code",
   "execution_count": 196,
   "metadata": {},
   "outputs": [
    {
     "data": {
      "text/plain": [
       "array([0., 0., 0., 0., 0., 0., 0., 0., 0., 0., 0., 0., 0., 0., 0., 0., 0.,\n",
       "       0., 0., 0., 0., 0., 0., 0., 0., 0., 0., 0., 0., 0., 0., 0., 0., 0.,\n",
       "       0., 0., 0., 0., 0., 0., 0., 0., 0., 0., 0., 0., 0., 0., 0., 0., 0.,\n",
       "       0., 0., 0., 0., 0., 0., 0., 0., 0., 0., 0., 0., 0., 0., 0., 0., 0.,\n",
       "       0., 0., 0., 0., 0., 0., 0., 0., 0., 0., 0., 0., 0., 0., 0., 0., 0.,\n",
       "       0., 0., 0., 0., 0., 0., 0., 0., 0., 0., 0., 0., 0., 0., 0., 0., 0.,\n",
       "       0., 0., 0., 0., 0., 0., 0., 0., 0., 0., 0., 0., 0., 0., 0., 0., 0.,\n",
       "       0., 0., 0., 0., 0., 0., 0., 0., 0., 0., 0., 0., 0., 0., 0., 0., 0.,\n",
       "       0., 0., 0., 0., 0., 0., 0., 0., 0., 0., 0., 0., 0., 0., 0., 0., 0.,\n",
       "       0., 0., 0., 0., 0., 0., 0., 0., 0., 0., 0., 0., 0., 0., 0., 0., 0.,\n",
       "       0., 0., 0., 0., 0., 0., 0., 0., 0., 0., 0., 0., 0., 0., 0., 0., 0.,\n",
       "       0., 0., 0., 0., 0., 0., 0., 0., 0., 0., 0., 0., 0., 0., 0., 0., 0.,\n",
       "       0., 0., 0., 0., 0., 0., 0., 0., 0., 0., 0., 0., 0., 0., 0., 0., 0.,\n",
       "       0., 0., 0., 0., 0., 0., 0., 0., 0., 0., 0., 0., 0., 0., 0., 0., 0.,\n",
       "       0., 0., 0., 0., 0., 0., 0., 0., 0., 0., 0., 0., 0., 0., 0., 0., 0.,\n",
       "       0., 0., 0., 0., 0., 0., 0., 0., 0., 0., 0., 0., 0., 0., 0., 0., 0.,\n",
       "       0., 0., 0., 0., 0., 0., 0., 0., 0., 0., 0., 0., 0., 0., 0., 0., 0.,\n",
       "       0., 0., 0., 0., 0., 0., 0., 0., 0., 0., 0., 0., 0., 0., 0., 0., 0.,\n",
       "       0., 0., 0., 0., 0., 0., 0., 0., 0., 0., 0., 0., 0., 0., 0., 0., 0.,\n",
       "       0., 0., 0., 0., 0., 0., 0., 0., 0., 0., 0., 0., 0., 0., 0., 0., 0.,\n",
       "       0., 0., 0., 0., 0., 0., 0., 0., 0., 0., 0., 0., 0., 0., 0., 0., 0.,\n",
       "       0., 0., 0., 0., 0., 0., 0., 0., 0., 0., 0., 0., 0., 0., 0., 0., 0.,\n",
       "       0., 0., 0., 0., 0., 0., 0., 0., 0., 0., 0., 0., 0., 0., 0., 0., 0.,\n",
       "       0., 0., 0., 0., 0., 0., 0., 0., 0.])"
      ]
     },
     "execution_count": 196,
     "metadata": {},
     "output_type": "execute_result"
    }
   ],
   "source": [
    "clusterer.outlier_scores_"
   ]
  },
  {
   "cell_type": "code",
   "execution_count": null,
   "metadata": {},
   "outputs": [],
   "source": []
  },
  {
   "cell_type": "code",
   "execution_count": null,
   "metadata": {},
   "outputs": [],
   "source": []
  },
  {
   "cell_type": "code",
   "execution_count": null,
   "metadata": {},
   "outputs": [],
   "source": []
  },
  {
   "cell_type": "code",
   "execution_count": null,
   "metadata": {},
   "outputs": [],
   "source": []
  },
  {
   "cell_type": "code",
   "execution_count": null,
   "metadata": {},
   "outputs": [],
   "source": []
  },
  {
   "cell_type": "code",
   "execution_count": null,
   "metadata": {},
   "outputs": [],
   "source": []
  }
 ],
 "metadata": {
  "kernelspec": {
   "display_name": "Python 3",
   "language": "python",
   "name": "python3"
  },
  "language_info": {
   "codemirror_mode": {
    "name": "ipython",
    "version": 3
   },
   "file_extension": ".py",
   "mimetype": "text/x-python",
   "name": "python",
   "nbconvert_exporter": "python",
   "pygments_lexer": "ipython3",
   "version": "3.6.6"
  }
 },
 "nbformat": 4,
 "nbformat_minor": 4
}
