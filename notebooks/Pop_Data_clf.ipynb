{
 "cells": [
  {
   "cell_type": "code",
   "execution_count": null,
   "metadata": {},
   "outputs": [],
   "source": [
    "import os\n",
    "os.chdir(os.environ['PROJECT_ROOT'])\n",
    "\n",
    "%load_ext autoreload\n",
    "%autoreload 2"
   ]
  },
  {
   "cell_type": "code",
   "execution_count": null,
   "metadata": {},
   "outputs": [],
   "source": [
    "import pandas as pd\n",
    "import numpy as np\n",
    "from populations.dataset import STRDatasetsHandler\n",
    "pd.set_option('max.columns', 100)\n",
    "pd.set_option('max.rows', 100)"
   ]
  },
  {
   "cell_type": "markdown",
   "metadata": {},
   "source": [
    "**Survey (correct region, lat/long)**"
   ]
  },
  {
   "cell_type": "code",
   "execution_count": null,
   "metadata": {},
   "outputs": [],
   "source": [
    "survey_v1 = pd.read_csv('data/apps/map/survey_data_v1.csv')\n",
    "survey_v2 = pd.read_csv('data/apps/map/survey_data_v2.csv')"
   ]
  },
  {
   "cell_type": "markdown",
   "metadata": {},
   "source": [
    "**Dataset handler**"
   ]
  },
  {
   "cell_type": "code",
   "execution_count": null,
   "metadata": {},
   "outputs": [],
   "source": [
    "dh = STRDatasetsHandler()"
   ]
  },
  {
   "cell_type": "markdown",
   "metadata": {},
   "source": [
    "**Bel Pop patch**"
   ]
  },
  {
   "cell_type": "code",
   "execution_count": null,
   "metadata": {},
   "outputs": [],
   "source": [
    "print(f'Shape before patching {dh._datasets[\"bel_pop\"]._df.shape}')\n",
    "dh._datasets['bel_pop'].patch_ids('bel_pop_')\n",
    "dh._datasets['bel_pop'].patch_meta_data(survey_v2, ['id', 'population'])\n",
    "print(f'Shape after patching {dh._datasets[\"bel_pop\"]._df.shape}')"
   ]
  },
  {
   "cell_type": "markdown",
   "metadata": {},
   "source": [
    "**Autosomal 2020 patch**"
   ]
  },
  {
   "cell_type": "code",
   "execution_count": null,
   "metadata": {},
   "outputs": [],
   "source": [
    "print(f'Shape before patching {dh._datasets[\"autosomal_2020\"]._df.shape}')\n",
    "dh._datasets['autosomal_2020'].patch_meta_data(survey_v2, ['id'])\n",
    "print(f'Shape after patching {dh._datasets[\"autosomal_2020\"]._df.shape}')"
   ]
  },
  {
   "cell_type": "markdown",
   "metadata": {},
   "source": [
    "* **All Bel data**\n",
    "* **New Bel data & Us data**"
   ]
  },
  {
   "cell_type": "code",
   "execution_count": null,
   "metadata": {},
   "outputs": [],
   "source": [
    "dh.join_datasets('bel_data', ['bel_pop', 'autosomal_2020'])\n",
    "dh.join_datasets('new_bel_vs_us', ['us_data_2016', 'autosomal_2020'])"
   ]
  },
  {
   "cell_type": "code",
   "execution_count": null,
   "metadata": {},
   "outputs": [],
   "source": [
    "for ds_id in list(dh._datasets.keys()):\n",
    "    dh.one_hot_encode(ds_id, f'{ds_id}_one_hot')"
   ]
  },
  {
   "cell_type": "code",
   "execution_count": null,
   "metadata": {},
   "outputs": [],
   "source": [
    "dh.available_datasets()"
   ]
  },
  {
   "cell_type": "code",
   "execution_count": null,
   "metadata": {},
   "outputs": [],
   "source": [
    "dh.describe()"
   ]
  },
  {
   "cell_type": "markdown",
   "metadata": {},
   "source": [
    "### Belarussian population"
   ]
  },
  {
   "cell_type": "markdown",
   "metadata": {},
   "source": [
    "**source**"
   ]
  },
  {
   "cell_type": "code",
   "execution_count": null,
   "metadata": {},
   "outputs": [],
   "source": [
    "from populations.viz_utils import vizualize_pca\n",
    "\n",
    "vizualize_pca(dh.get('bel_data'), 'source', one_hot=True)\n",
    "vizualize_pca(dh.get('bel_data_one_hot'), 'source')"
   ]
  },
  {
   "cell_type": "markdown",
   "metadata": {},
   "source": [
    "**resion**"
   ]
  },
  {
   "cell_type": "code",
   "execution_count": null,
   "metadata": {
    "scrolled": false
   },
   "outputs": [],
   "source": [
    "vizualize_pca(dh.get('bel_data'), 'region', one_hot=True)\n",
    "vizualize_pca(dh.get('bel_data_one_hot'), 'region')"
   ]
  },
  {
   "cell_type": "markdown",
   "metadata": {},
   "source": [
    "**US data**"
   ]
  },
  {
   "cell_type": "code",
   "execution_count": null,
   "metadata": {
    "scrolled": false
   },
   "outputs": [],
   "source": [
    "vizualize_pca(dh.get('us_data_2016_one_hot'), 'population')\n",
    "vizualize_pca(dh.get('us_data_2016'), 'population', one_hot=True)"
   ]
  },
  {
   "cell_type": "markdown",
   "metadata": {},
   "source": [
    "**Bel vs US**"
   ]
  },
  {
   "cell_type": "code",
   "execution_count": null,
   "metadata": {
    "scrolled": false
   },
   "outputs": [],
   "source": [
    "vizualize_pca(dh.get('new_bel_vs_us_one_hot'), 'source')\n",
    "vizualize_pca(dh.get('new_bel_vs_us_one_hot'), 'population')"
   ]
  },
  {
   "cell_type": "markdown",
   "metadata": {},
   "source": [
    "## 1 vs 1 clf"
   ]
  },
  {
   "cell_type": "code",
   "execution_count": null,
   "metadata": {},
   "outputs": [],
   "source": [
    "from sklearn.model_selection import StratifiedKFold\n",
    "\n",
    "folds = StratifiedKFold(n_splits=10, shuffle=True, random_state=42)"
   ]
  },
  {
   "cell_type": "markdown",
   "metadata": {},
   "source": [
    "**Bel data**"
   ]
  },
  {
   "cell_type": "code",
   "execution_count": null,
   "metadata": {
    "scrolled": true
   },
   "outputs": [],
   "source": [
    "from populations.clf_utils import one_vs_one_clfs, one_vs_all_clfs\n",
    "from populations.viz_utils import plot_heatmap\n",
    "\n",
    "test_roc_auc = one_vs_one_clfs(\n",
    "    dh.get('bel_data'),\n",
    "    'region',\n",
    "    folds\n",
    ")\n",
    "test_roc_auc_one_hot = one_vs_one_clfs(\n",
    "    dh.get('bel_data_one_hot'),\n",
    "    'region',\n",
    "    folds\n",
    ")"
   ]
  },
  {
   "cell_type": "code",
   "execution_count": null,
   "metadata": {},
   "outputs": [],
   "source": [
    "plot_heatmap(test_roc_auc, 'Bel data \"region\" 1vs1 results')\n",
    "plot_heatmap(test_roc_auc_one_hot, 'Bel data (one-hot) \"region\" 1vs1 results')"
   ]
  },
  {
   "cell_type": "code",
   "execution_count": null,
   "metadata": {},
   "outputs": [],
   "source": [
    "plot_heatmap(test_roc_auc, 'Bel data \"region\" 1vs1 results')\n",
    "plot_heatmap(test_roc_auc_one_hot, 'Bel data (one-hot) \"region\" 1vs1 results')"
   ]
  },
  {
   "cell_type": "markdown",
   "metadata": {},
   "source": [
    "**US**"
   ]
  },
  {
   "cell_type": "code",
   "execution_count": null,
   "metadata": {
    "scrolled": true
   },
   "outputs": [],
   "source": [
    "test_roc_auc = one_vs_one_clfs(\n",
    "    dh.get('us_data_2016'),\n",
    "    'population',\n",
    "    folds\n",
    ")\n",
    "test_roc_auc_one_hot = one_vs_one_clfs(\n",
    "    dh.get('us_data_2016_one_hot'),\n",
    "    'population',\n",
    "    folds\n",
    ")"
   ]
  },
  {
   "cell_type": "code",
   "execution_count": null,
   "metadata": {},
   "outputs": [],
   "source": [
    "plot_heatmap(test_roc_auc, 'US data \"population\" 1vs1 results')\n",
    "plot_heatmap(test_roc_auc_one_hot, 'US data (one-hot) \"population\" 1vs1 results')"
   ]
  },
  {
   "cell_type": "markdown",
   "metadata": {},
   "source": [
    "**New Bel vs US**"
   ]
  },
  {
   "cell_type": "code",
   "execution_count": null,
   "metadata": {
    "scrolled": true
   },
   "outputs": [],
   "source": [
    "test_roc_auc = one_vs_one_clfs(\n",
    "    dh.get('new_bel_vs_us'),\n",
    "    'source',\n",
    "    folds\n",
    ")\n",
    "test_roc_auc_one_hot = one_vs_one_clfs(\n",
    "    dh.get('new_bel_vs_us_one_hot'),\n",
    "    'source',\n",
    "    folds\n",
    ")\n"
   ]
  },
  {
   "cell_type": "code",
   "execution_count": null,
   "metadata": {},
   "outputs": [],
   "source": [
    "plot_heatmap(test_roc_auc, 'US data vs Bel data results')\n",
    "plot_heatmap(test_roc_auc_one_hot, 'US data vs Bel data results')"
   ]
  },
  {
   "cell_type": "markdown",
   "metadata": {},
   "source": [
    "## 1 vs all clf"
   ]
  },
  {
   "cell_type": "code",
   "execution_count": null,
   "metadata": {
    "scrolled": true
   },
   "outputs": [],
   "source": [
    "one_vs_all_clfs(\n",
    "    dh.get('bel_data'),\n",
    "    'region',\n",
    "    folds\n",
    ")"
   ]
  }
 ],
 "metadata": {
  "kernelspec": {
   "display_name": "Python 3",
   "language": "python",
   "name": "python3"
  },
  "language_info": {
   "codemirror_mode": {
    "name": "ipython",
    "version": 3
   },
   "file_extension": ".py",
   "mimetype": "text/x-python",
   "name": "python",
   "nbconvert_exporter": "python",
   "pygments_lexer": "ipython3",
   "version": "3.6.6"
  }
 },
 "nbformat": 4,
 "nbformat_minor": 4
}
